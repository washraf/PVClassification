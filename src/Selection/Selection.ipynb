{
 "cells": [
  {
   "cell_type": "code",
   "execution_count": 1,
   "metadata": {
    "collapsed": true
   },
   "outputs": [],
   "source": [
    "import pandas as pd\n",
    "import numpy as np\n",
    "from sklearn.feature_selection import SelectKBest\n",
    "from sklearn.feature_selection import chi2, f_classif, mutual_info_classif\n",
    "from sklearn.preprocessing import MinMaxScaler\n",
    "from sklearn.utils import shuffle"
   ]
  },
  {
   "cell_type": "code",
   "execution_count": 2,
   "metadata": {
    "collapsed": true
   },
   "outputs": [],
   "source": [
    "def CreateDataFrame(types,subtype, level):\n",
    "    data = pd.read_csv('../Extraction/'+types+\"/\"+subtype+\"/\"+level+'.csv')\n",
    "    data[\"Class\"] = level\n",
    "    return data"
   ]
  },
  {
   "cell_type": "code",
   "execution_count": 3,
   "metadata": {
    "collapsed": true
   },
   "outputs": [],
   "source": [
    "def LoadData(types,subtype):\n",
    "    if(subtype==\"All\"):\n",
    "        frames = [CreateDataFrame(types,\"Roof\",\"Clean\"), \n",
    "              CreateDataFrame(types,\"Roof\",\"Dirty (0-20)\"), \n",
    "              CreateDataFrame(types,\"Roof\",\"Dirty (20-40)\"), \n",
    "              CreateDataFrame(types,\"Roof\",\"Dirty (40-60)\"),\n",
    "              CreateDataFrame(types,\"Roof\",\"Dirty (60-80)\"),\n",
    "              CreateDataFrame(types,\"Roof\",\"Dirty (80-100)\"),\n",
    "              CreateDataFrame(types,\"Grass\",\"Clean\"), \n",
    "              CreateDataFrame(types,\"Grass\",\"Dirty (0-20)\"), \n",
    "              CreateDataFrame(types,\"Grass\",\"Dirty (20-40)\"), \n",
    "              CreateDataFrame(types,\"Grass\",\"Dirty (40-60)\"),\n",
    "              CreateDataFrame(types,\"Grass\",\"Dirty (60-80)\"),\n",
    "              CreateDataFrame(types,\"Grass\",\"Dirty (80-100)\")]\n",
    "    else:\n",
    "        frames = [CreateDataFrame(types,subtype,\"Clean\"), \n",
    "              CreateDataFrame(types,subtype,\"Dirty (0-20)\"), \n",
    "              CreateDataFrame(types,subtype,\"Dirty (20-40)\"), \n",
    "              CreateDataFrame(types,subtype,\"Dirty (40-60)\"),\n",
    "              CreateDataFrame(types,subtype,\"Dirty (60-80)\"),\n",
    "              CreateDataFrame(types,subtype,\"Dirty (80-100)\")]\n",
    "    df = pd.concat(frames)\n",
    "    #Randomize\n",
    "    df = shuffle(df)\n",
    "    y=df[['Class']].copy()\n",
    "    f = df[['FileAddress']].copy()\n",
    "    X = df.copy()\n",
    "    del X['Class']\n",
    "    del X['FileAddress']\n",
    "    return X,y,f"
   ]
  },
  {
   "cell_type": "code",
   "execution_count": 4,
   "metadata": {
    "collapsed": true
   },
   "outputs": [],
   "source": [
    "def AllWork(types,subtype,k=10):\n",
    "    data = []\n",
    "    X,y,f = LoadData(types,subtype)\n",
    "    scaler = MinMaxScaler()\n",
    "    X_01 = scaler.fit_transform(X)\n",
    "    selector = SelectKBest(chi2, k)\n",
    "    X_new = selector.fit_transform(X_01, y)\n",
    "    mask = selector.get_support()\n",
    "    new_features = X.columns[mask]\n",
    "    X_new = X[new_features]\n",
    "    print(X_new.head())\n",
    "    X_new['Class'] = y\n",
    "    X_new['FileAddress'] = f\n",
    "    X_new.to_csv(\"Selection-\"+types+'-'+subtype+'-'+str(k)+'.csv',index = False)"
   ]
  },
  {
   "cell_type": "code",
   "execution_count": 8,
   "metadata": {},
   "outputs": [
    {
     "name": "stdout",
     "output_type": "stream",
     "text": [
      "        ASkew         Rvar     RSkew     GSkew  GraySkew  BlackRatio  \\\n",
      "285  0.993468  3110.936803  0.779609  0.919450  0.914414    0.706277   \n",
      "520 -0.191407  2470.910326 -0.213288 -0.214234 -0.204074    0.393375   \n",
      "39   0.138424  1650.942830  0.003079  0.163591  0.157770    0.515996   \n",
      "233  0.837784  2846.349186  0.409943  0.897250  0.888096    0.610194   \n",
      "224  0.825278  2798.897018  0.367361  0.904416  0.889772    0.602374   \n",
      "\n",
      "     WhiteRatio   Contrast45  Contrast90  Contrast135  \n",
      "285    0.293723   634.283864  436.187680   651.241446  \n",
      "520    0.606625   709.331632  425.839156   695.012063  \n",
      "39     0.484004   559.223012  371.770817   546.669631  \n",
      "233    0.389806  1147.596011  874.447837  1127.539363  \n",
      "224    0.397626  1142.257649  855.424500  1111.411248  \n"
     ]
    },
    {
     "name": "stderr",
     "output_type": "stream",
     "text": [
      "C:\\Users\\eng_w\\Anaconda3\\lib\\site-packages\\ipykernel_launcher.py:12: SettingWithCopyWarning: \n",
      "A value is trying to be set on a copy of a slice from a DataFrame.\n",
      "Try using .loc[row_indexer,col_indexer] = value instead\n",
      "\n",
      "See the caveats in the documentation: http://pandas.pydata.org/pandas-docs/stable/indexing.html#indexing-view-versus-copy\n",
      "  if sys.path[0] == '':\n",
      "C:\\Users\\eng_w\\Anaconda3\\lib\\site-packages\\ipykernel_launcher.py:13: SettingWithCopyWarning: \n",
      "A value is trying to be set on a copy of a slice from a DataFrame.\n",
      "Try using .loc[row_indexer,col_indexer] = value instead\n",
      "\n",
      "See the caveats in the documentation: http://pandas.pydata.org/pandas-docs/stable/indexing.html#indexing-view-versus-copy\n",
      "  del sys.path[0]\n"
     ]
    },
    {
     "name": "stdout",
     "output_type": "stream",
     "text": [
      "            Avar     ASkew         Rvar     RSkew     RKurt         Gvar  \\\n",
      "266  1759.166698 -0.077797  2046.005003 -0.174665 -0.527416  1843.527636   \n",
      "124  1421.608444 -0.208987  1486.272158 -0.389166  0.624301  1379.318847   \n",
      "57   2144.495948  0.491072  1968.770081  0.729684  0.164594  1625.676345   \n",
      "199  1386.950136  0.539430  1433.504064  0.388081  0.398811  1315.711352   \n",
      "106  2446.485198 -0.157421  2908.877921 -0.176934 -1.414975  2636.809206   \n",
      "\n",
      "        GSkew     BSkew      Grayvar  GraySkew  BlackRatio  WhiteRatio  \\\n",
      "266 -0.137073  0.213693  1839.633679 -0.131262    0.356681    0.643319   \n",
      "124 -0.244089  0.002485  1380.233541 -0.248701    0.434257    0.565743   \n",
      "57   0.786512  0.410360  1646.174538  0.803221    0.705497    0.294503   \n",
      "199  0.633454  0.638128  1314.150938  0.627817    0.535728    0.464272   \n",
      "106 -0.153019 -0.012578  2617.911185 -0.151510    0.433915    0.566085   \n",
      "\n",
      "     Contrast45  Contrast90  Contrast135  Homogeneity0  Homogeneity90  \\\n",
      "266  538.398305  351.988006   546.233820      0.175081       0.176834   \n",
      "124  298.679520  186.341663   291.538880      0.186166       0.182385   \n",
      "57   875.841018  438.403237   966.116732      0.169572       0.203951   \n",
      "199  388.152498  244.828729   360.223347      0.153094       0.146854   \n",
      "106  754.179990  493.201074   714.765880      0.153717       0.148966   \n",
      "\n",
      "     Energy45  Energy20  Energy135  \n",
      "266  0.015325  0.017561   0.015483  \n",
      "124  0.014988  0.017439   0.015112  \n",
      "57   0.018702  0.023352   0.018357  \n",
      "199  0.013169  0.015198   0.013352  \n",
      "106  0.014799  0.016611   0.015202  \n",
      "            Avar     ASkew     AKurt         Rvar     RSkew     RKurt  \\\n",
      "279  1920.331088 -0.427614  0.024052  1908.557606 -0.570510 -0.083881   \n",
      "506  1387.996982 -0.742650  0.399814  1554.075871 -0.741100  0.047959   \n",
      "613   917.015904 -0.803387  1.314319  1025.251662 -0.966953  1.034902   \n",
      "275  1005.995940 -0.686401  2.044252  1162.640420 -0.836046  1.291467   \n",
      "511  2134.874254 -0.239176 -0.565031  2487.199832 -0.264657 -0.870375   \n",
      "\n",
      "            Gvar     GSkew     GKurt         Bvar    ...      Contrast135  \\\n",
      "279  1817.418610 -0.414134  0.138610  2033.053719    ...       393.175641   \n",
      "506  1400.018131 -0.759417  0.320650  1202.873095    ...       474.158630   \n",
      "613   947.737542 -0.860697  1.196252   773.510952    ...       416.665314   \n",
      "275  1012.663360 -0.718582  1.936125   838.626684    ...       307.151423   \n",
      "511  2242.886253 -0.265523 -0.689489  1665.942450    ...       671.003913   \n",
      "\n",
      "     Dissimilarity2PI/2  Homogeneity0  Homogeneity45  Homogeneity90  \\\n",
      "279           12.444320      0.153971       0.126062       0.159330   \n",
      "506           12.781150      0.199456       0.159879       0.206802   \n",
      "613           12.897408      0.160930       0.127565       0.160312   \n",
      "275            9.848051      0.215027       0.169433       0.211595   \n",
      "511           15.193036      0.174707       0.138745       0.182555   \n",
      "\n",
      "     Homogeneity135   Energy0  Energy45  Energy20  Energy135  \n",
      "279        0.126065  0.022906  0.021106  0.022769   0.021116  \n",
      "506        0.165511  0.022757  0.020182  0.023165   0.020596  \n",
      "613        0.130850  0.023723  0.021307  0.023800   0.021547  \n",
      "275        0.173929  0.030654  0.027380  0.030133   0.027755  \n",
      "511        0.144455  0.017521  0.015391  0.017807   0.015757  \n",
      "\n",
      "[5 rows x 30 columns]\n",
      "          Amean         Avar     ASkew     AKurt         Rvar     RSkew  \\\n",
      "253  122.474856  2965.614960  0.356749 -1.105880  3533.572592  0.333285   \n",
      "445  121.759026  1759.772826 -0.377508 -0.143762  1666.539819 -0.540541   \n",
      "350  108.521101  2534.797844  0.878652  0.301220  3449.388165  0.616744   \n",
      "238  123.950426  2346.225110 -0.030880 -0.952539  2820.413456 -0.049254   \n",
      "195  122.205719  1344.452141  0.012095  0.470895  1570.883046 -0.137799   \n",
      "\n",
      "        RKurt         Gvar     GSkew     GKurt     ...      Homogeneity135  \\\n",
      "253 -1.334537  3174.441873  0.358352 -1.250559     ...            0.144457   \n",
      "445 -0.170459  1638.048785 -0.402092  0.068642     ...            0.109659   \n",
      "350 -0.954180  2223.154756  0.872280  0.512987     ...            0.233520   \n",
      "238 -1.233484  2476.889068 -0.002233 -1.127493     ...            0.144246   \n",
      "195 -0.138032  1406.254831 -0.055559  0.263154     ...            0.158478   \n",
      "\n",
      "      Energy0  Energy45  Energy20  Energy135  Correlation90  Correlation135  \\\n",
      "253  0.017835  0.015806  0.018676   0.015915       0.912211        0.870178   \n",
      "445  0.022277  0.020317  0.021479   0.020423       0.898939        0.859706   \n",
      "350  0.039197  0.031724  0.035552   0.031542       0.862837        0.819750   \n",
      "238  0.016427  0.014428  0.017046   0.014875       0.898163        0.843713   \n",
      "195  0.019169  0.016990  0.019672   0.017017       0.885258        0.834358   \n",
      "\n",
      "     Entropy45  Entropy90  Entropy135  \n",
      "253  13.305980  12.889618   13.296116  \n",
      "445  12.803030  12.577851   12.784819  \n",
      "350  12.587995  12.277465   12.595351  \n",
      "238  13.458729  13.039775   13.403943  \n",
      "195  12.929462  12.527801   12.922025  \n",
      "\n",
      "[5 rows x 40 columns]\n"
     ]
    }
   ],
   "source": [
    "types = \"Solar Data\" #\"NoBG\",Solar Data,Cropped\n",
    "subtype = \"All\"#All,Grass,Roof\n",
    "AllWork(types,subtype,10)\n",
    "AllWork(types,subtype,20)\n",
    "AllWork(types,subtype,30)\n",
    "AllWork(types,subtype,40)"
   ]
  },
  {
   "cell_type": "code",
   "execution_count": null,
   "metadata": {
    "collapsed": true
   },
   "outputs": [],
   "source": []
  }
 ],
 "metadata": {
  "kernelspec": {
   "display_name": "Python 3",
   "language": "python",
   "name": "python3"
  },
  "language_info": {
   "codemirror_mode": {
    "name": "ipython",
    "version": 3
   },
   "file_extension": ".py",
   "mimetype": "text/x-python",
   "name": "python",
   "nbconvert_exporter": "python",
   "pygments_lexer": "ipython3",
   "version": "3.6.3"
  }
 },
 "nbformat": 4,
 "nbformat_minor": 2
}
