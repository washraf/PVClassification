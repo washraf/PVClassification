{
 "cells": [
  {
   "cell_type": "markdown",
   "metadata": {},
   "source": [
    "# Classification Process"
   ]
  },
  {
   "cell_type": "markdown",
   "metadata": {},
   "source": [
    "<p style=\"font-family: Arial; font-size:1.75em;color:purple; font-style:bold\"><br>\n",
    "\n",
    "Importing the Necessary Libraries<br></p>"
   ]
  },
  {
   "cell_type": "code",
   "execution_count": 17,
   "metadata": {
    "collapsed": true
   },
   "outputs": [],
   "source": [
    "import pandas as pd\n",
    "import numpy as np\n",
    "from sklearn.metrics import accuracy_score\n",
    "from sklearn.model_selection import train_test_split\n",
    "\n",
    "\n",
    "#Classifiers\n",
    "from sklearn.neighbors import KNeighborsClassifier\n",
    "from sklearn.svm import SVC\n",
    "from sklearn.ensemble import RandomForestClassifier\n",
    "from sklearn.neural_network import MLPClassifier\n",
    "\n",
    "from sklearn.model_selection import GridSearchCV\n",
    "from sklearn.pipeline import Pipeline\n",
    "from sklearn.preprocessing import StandardScaler\n",
    "from sklearn.model_selection import cross_val_predict\n",
    "from sklearn.metrics import confusion_matrix\n",
    "from sklearn.metrics import f1_score\n",
    "from sklearn.model_selection import StratifiedKFold\n",
    "from sklearn.utils import shuffle\n",
    "\n",
    "import time"
   ]
  },
  {
   "cell_type": "markdown",
   "metadata": {},
   "source": [
    "<p style=\"font-family: Arial; font-size:1.75em;color:purple; font-style:bold\"><br>\n",
    "\n",
    "Creating a Pandas DataFrame from a CSV file<br></p>"
   ]
  },
  {
   "cell_type": "code",
   "execution_count": 18,
   "metadata": {
    "collapsed": true
   },
   "outputs": [],
   "source": [
    "def CreateDataFrame(types,subtype, level):\n",
    "    data = pd.read_csv('../Extraction/'+types+\"/\"+subtype+\"/\"+level+'.csv')\n",
    "    data[\"Class\"] = level\n",
    "    return data"
   ]
  },
  {
   "cell_type": "code",
   "execution_count": 19,
   "metadata": {
    "collapsed": true
   },
   "outputs": [],
   "source": [
    "def LoadFullData(types,subtype):\n",
    "    if(subtype==\"All\"):\n",
    "        frames = [CreateDataFrame(types,\"Roof\",\"Clean\"), \n",
    "              CreateDataFrame(types,\"Roof\",\"Dirty (0-20)\"), \n",
    "              CreateDataFrame(types,\"Roof\",\"Dirty (20-40)\"), \n",
    "              CreateDataFrame(types,\"Roof\",\"Dirty (40-60)\"),\n",
    "              CreateDataFrame(types,\"Roof\",\"Dirty (60-80)\"),\n",
    "              CreateDataFrame(types,\"Roof\",\"Dirty (80-100)\"),\n",
    "              CreateDataFrame(types,\"Grass\",\"Clean\"), \n",
    "              CreateDataFrame(types,\"Grass\",\"Dirty (0-20)\"), \n",
    "              CreateDataFrame(types,\"Grass\",\"Dirty (20-40)\"), \n",
    "              CreateDataFrame(types,\"Grass\",\"Dirty (40-60)\"),\n",
    "              CreateDataFrame(types,\"Grass\",\"Dirty (60-80)\"),\n",
    "              CreateDataFrame(types,\"Grass\",\"Dirty (80-100)\")]\n",
    "    else:\n",
    "        frames = [CreateDataFrame(types,subtype,\"Clean\"), \n",
    "              CreateDataFrame(types,subtype,\"Dirty (0-20)\"), \n",
    "              CreateDataFrame(types,subtype,\"Dirty (20-40)\"), \n",
    "              CreateDataFrame(types,subtype,\"Dirty (40-60)\"),\n",
    "              CreateDataFrame(types,subtype,\"Dirty (60-80)\"),\n",
    "              CreateDataFrame(types,subtype,\"Dirty (80-100)\")]\n",
    "    df = pd.concat(frames)\n",
    "    #Randomize\n",
    "    df = shuffle(df)\n",
    "    y=df[['Class']].copy()\n",
    "    X = df.copy()\n",
    "    del X['Class']\n",
    "    f = df[['FileAddress']].copy()\n",
    "    del X['FileAddress']\n",
    "    X = X[['Rmean','Gmean','Bmean']]\n",
    "    return X,y,f"
   ]
  },
  {
   "cell_type": "code",
   "execution_count": 20,
   "metadata": {
    "collapsed": true
   },
   "outputs": [],
   "source": [
    "def LoadMinimizedData(types,subtype, count):\n",
    "    df = pd.read_csv('../Selection/Selection-'+types+\"-\"+subtype+\"-\"+count+\".csv\")\n",
    "    y=df[['Class']].copy()\n",
    "    X = df.copy()\n",
    "    del X['Class']\n",
    "    f = df[['FileAddress']].copy()\n",
    "    del X['FileAddress']\n",
    "    X = X[['Rmean','Gmean','Bmean']]\n",
    "    return X,y,f"
   ]
  },
  {
   "cell_type": "code",
   "execution_count": 21,
   "metadata": {
    "collapsed": true
   },
   "outputs": [],
   "source": [
    "def loader(types,subtype,datasize):\n",
    "    if(datasize==\"Full\"):\n",
    "        X,y,f = LoadFullData(types,subtype)\n",
    "    else:\n",
    "        count = datasize.split('-')[-1]\n",
    "        X,y,f = LoadMinimizedData(types,subtype,count)\n",
    "    return X,y,f"
   ]
  },
  {
   "cell_type": "markdown",
   "metadata": {},
   "source": [
    "# Classifications"
   ]
  },
  {
   "cell_type": "markdown",
   "metadata": {},
   "source": [
    "## Optimize KNN Classfiers"
   ]
  },
  {
   "cell_type": "code",
   "execution_count": 22,
   "metadata": {
    "collapsed": true
   },
   "outputs": [],
   "source": [
    "def optimizeKNN(X_train, y_train,cv):\n",
    "    param_grid = [{'clf__weights': [\"distance\"]}]\n",
    "    clfpipeline = Pipeline([\n",
    "        ('scale', StandardScaler()),\n",
    "        ('clf', KNeighborsClassifier(algorithm='brute', \n",
    "                               metric='mahalanobis', \n",
    "                               metric_params={'V': np.cov(X_train)}))\n",
    "    ])\n",
    "    grid_search = GridSearchCV(clfpipeline, param_grid, cv=cv, verbose=3, n_jobs=-1)\n",
    "    grid_search.fit(X_train, y_train.values.ravel())\n",
    "    end = time.time()\n",
    "    return grid_search"
   ]
  },
  {
   "cell_type": "markdown",
   "metadata": {},
   "source": [
    "## Optimize SVM Classfiers"
   ]
  },
  {
   "cell_type": "code",
   "execution_count": 23,
   "metadata": {
    "collapsed": true
   },
   "outputs": [],
   "source": [
    "def optimizeSVM(X_train, y_train,cv):\n",
    "    param_grid = [\n",
    "            {'clf__kernel': ['poly'],'clf__degree':[1,5],'clf__coef0':[5,10]}\n",
    "            #,{'clf__kernel': ['rbf'],'clf__gamma': [0.01, 0.03, 0.1, 0.3, 1.0, 3.0]}\n",
    "            #,{'clf__kernel': ['sigmoid'],'clf__coef0':[1,5,10,15,20,30]}\n",
    "            #,{'clf__kernel':['linear'],'clf__C':[1,5,10]}\n",
    "            ]\n",
    "\n",
    "    clfpipeline = Pipeline([\n",
    "        ('scale', StandardScaler()),\n",
    "        ('clf', SVC())\n",
    "    ])\n",
    "    grid_search = GridSearchCV(clfpipeline, param_grid, cv=cv, verbose=3, n_jobs=-1)\n",
    "    grid_search.fit(X_train, y_train.values.ravel())\n",
    "    return grid_search"
   ]
  },
  {
   "cell_type": "markdown",
   "metadata": {},
   "source": [
    "## Optimize Random Forest Classfiers"
   ]
  },
  {
   "cell_type": "code",
   "execution_count": 24,
   "metadata": {
    "collapsed": true
   },
   "outputs": [],
   "source": [
    "def optimizeRandomForest(X_train, y_train,cv):\n",
    "    param_grid = [\n",
    "            {'clf__n_estimators': [30],'clf__max_features':['auto']},\n",
    "            ]\n",
    "\n",
    "    clfpipeline = Pipeline([\n",
    "        ('scale', StandardScaler()),\n",
    "        ('clf', RandomForestClassifier())])\n",
    "        \n",
    "    grid_search = GridSearchCV(clfpipeline, param_grid, cv=cv, verbose=3, n_jobs=-1)\n",
    "    grid_search.fit(X_train, y_train.values.ravel())\n",
    "    return grid_search"
   ]
  },
  {
   "cell_type": "markdown",
   "metadata": {},
   "source": [
    "## Optimize NN Classifiers "
   ]
  },
  {
   "cell_type": "code",
   "execution_count": 25,
   "metadata": {
    "collapsed": true
   },
   "outputs": [],
   "source": [
    "def optimizeNN(X_train, y_train,cv):\n",
    "    param_grid = [{'clf__hidden_layer_sizes': [(100,50,30,)]}]\n",
    "    clfpipeline = Pipeline([\n",
    "        ('scale', StandardScaler()),\n",
    "        ('clf', MLPClassifier())\n",
    "    ])\n",
    "    grid_search = GridSearchCV(clfpipeline, param_grid, cv=cv, verbose=3, n_jobs=-1)\n",
    "    grid_search.fit(X_train, y_train.values.ravel())\n",
    "    return grid_search"
   ]
  },
  {
   "cell_type": "markdown",
   "metadata": {},
   "source": [
    "## Cycle Work"
   ]
  },
  {
   "cell_type": "code",
   "execution_count": 26,
   "metadata": {
    "collapsed": true
   },
   "outputs": [],
   "source": [
    "def cycleWork(X_train, X_test, y_train, y_test,optimize,cv):\n",
    "    gridsearch = optimize(X_train, y_train,cv)\n",
    "    traintime = gridsearch.cv_results_['mean_fit_time'].mean()*1000\n",
    "    print(\"Mean Fit Time\", traintime)\n",
    "    print(\"Mean Score Time\", gridsearch.cv_results_['mean_score_time'].mean()*1000)\n",
    "\n",
    "    #print(gridsearch.best_params_)\n",
    "    estimator = gridsearch.best_estimator_\n",
    "    params = estimator.get_params()['clf']\n",
    "    print(params)\n",
    "    y_train_pred = estimator.predict(X_train)\n",
    "    trnscore = accuracy_score(y_train, y_train_pred)\n",
    "    start = time.time()\n",
    "    y_tst_pred = estimator.predict(X_test)\n",
    "    end = time.time()\n",
    "    diff = end-start\n",
    "    clfperms = X_train.shape[0]/((diff*1000)+0.000000001)\n",
    "    tstscore = accuracy_score(y_test, y_tst_pred)\n",
    "    cm = confusion_matrix(y_test, y_tst_pred)\n",
    "    true_pos = np.diag(cm) \n",
    "    precision = np.sum(true_pos / np.sum(cm, axis=0))\n",
    "    recall = np.sum(true_pos / np.sum(cm, axis=1))\n",
    "    f1 = 2 * ((precision* recall)/(precision + recall))\n",
    "    #f1None = f1_score(y_test, y_tst_pred, average=None)\n",
    "    #f1micro = f1_score(y_test, y_tst_pred, average='micro')\n",
    "    return [trnscore, tstscore, f1,traintime,clfperms,cm,params,estimator]"
   ]
  },
  {
   "cell_type": "code",
   "execution_count": 27,
   "metadata": {
    "collapsed": true
   },
   "outputs": [],
   "source": [
    "def saveresultlist(types,subtype,datasize,clf,iteration,split,classifier,X,y,files):\n",
    "    data = []\n",
    "    #print(files.shape[0])\n",
    "    for i in range(0,files.shape[0]):\n",
    "        #print(files.iloc[[i]])\n",
    "        #print(X.iloc[[i]])\n",
    "        pred = classifier.predict(X.iloc[[i]])\n",
    "        #print(pred)\n",
    "        data.append([files.iloc[[i]].values[0][0],y.iloc[[i]].values[0][0],pred[0]])\n",
    "    numpyarray = np.array(data)\n",
    "    df = pd.DataFrame(numpyarray, columns = [\"File\",\"Y\",\"Pred\"])\n",
    "    fileName = \"Real-\"+types+'-'+ subtype+\"-\"+ datasize+\"-\"+ str(clf)+\"-\"+ str(iteration)+\"-\"+ str(split)+'.csv'\n",
    "    print(type(fileName))\n",
    "    df.to_csv(fileName,index = False)"
   ]
  },
  {
   "cell_type": "code",
   "execution_count": 28,
   "metadata": {
    "collapsed": true
   },
   "outputs": [],
   "source": [
    "def AllWork(types,subtype,sizeDict, cycles = 5, out=False,cross_validation=5):    \n",
    "    data = []\n",
    "    for datasize in sizeDict:\n",
    "        print(datasize)\n",
    "        classifiersDict = {\n",
    "                        \"KNN\":optimizeKNN,\n",
    "                        #\"SVM\":optimizeSVM,\n",
    "                        #\"RF\":optimizeRandomForest,\n",
    "                        #\"NN\":optimizeNN\n",
    "                          }\n",
    "        for clf in classifiersDict:\n",
    "            for i in range(0,cycles):\n",
    "                X,y,f = loader(types,subtype,datasize)\n",
    "                #X,y = LoadMinimizedData(types)\n",
    "                skf = StratifiedKFold(n_splits=cross_validation,shuffle = True)\n",
    "                j = 0\n",
    "                for train_index, test_index in skf.split(X, y.values.ravel()):\n",
    "                    print(\"Size \",datasize, \" Algorithm \",clf, \" Trial \",i, \" Split \", j,\" :\")\n",
    "                    X_train, X_test = X.iloc[train_index], X.iloc[test_index]\n",
    "                    y_train, y_test = y.iloc[train_index], y.iloc[test_index]\n",
    "                    acc = cycleWork(X_train, X_test, y_train, y_test,classifiersDict[clf],cross_validation)\n",
    "                    #saveresultlist(types,subtype,datasize,clf,i,j,acc[7],X,y,f)\n",
    "                    print(\"Train Accuracy \",acc[0],\", Test Accuracy\",acc[1], \"F1 \",acc[2])\n",
    "                    data.append([clf,datasize.split('-')[-1],i,j,acc[0],acc[1],acc[2],acc[3],acc[4],acc[5],acc[6]])\n",
    "                    j = j+1\n",
    "                    #break\n",
    "                    print(\"########################################\")\n",
    "    numpyarray = np.array(data)\n",
    "    df = pd.DataFrame(numpyarray, columns = [\"Classifier\",\"Count\",\"Cycle\",\"Split\",\"Train Acc\", \"Test Acc\", \"F1 Score\",\"Train Time (ms)\",\"clfs per ms\",\"Confusion Matrix\",\"Params\"])\n",
    "    if(out):\n",
    "        df.to_csv(\"All-\"+types+'-'+subtype+'.csv',index = False)\n",
    "    df.head(10)"
   ]
  },
  {
   "cell_type": "code",
   "execution_count": 29,
   "metadata": {},
   "outputs": [
    {
     "name": "stdout",
     "output_type": "stream",
     "text": [
      "Full\n",
      "Size  Full  Algorithm  KNN  Trial  0  Split  0  :\n",
      "Fitting 10 folds for each of 1 candidates, totalling 10 fits\n"
     ]
    },
    {
     "name": "stderr",
     "output_type": "stream",
     "text": [
      "[Parallel(n_jobs=-1)]: Done   7 out of  10 | elapsed:   24.2s remaining:   10.3s\n",
      "[Parallel(n_jobs=-1)]: Done  10 out of  10 | elapsed:   26.1s finished\n"
     ]
    },
    {
     "name": "stdout",
     "output_type": "stream",
     "text": [
      "Mean Fit Time 23.435473442077637\n",
      "Mean Score Time 260.8187198638916\n",
      "KNeighborsClassifier(algorithm='brute', leaf_size=30, metric='mahalanobis',\n",
      "           metric_params={'V': array([[13.47928,  3.3869 , ..., 26.40426,  3.52751],\n",
      "       [ 3.3869 ,  1.15006, ...,  6.97027,  1.20066],\n",
      "       ...,\n",
      "       [26.40426,  6.97027, ..., 52.09967,  7.26284],\n",
      "       [ 3.52751,  1.20066, ...,  7.26284,  1.2535 ]])},\n",
      "           n_jobs=1, n_neighbors=5, p=2, weights='distance')\n",
      "Train Accuracy  1.0 , Test Accuracy 0.7935368043087971 F1  4.765979864682178\n",
      "########################################\n",
      "Size  Full  Algorithm  KNN  Trial  0  Split  1  :\n",
      "Fitting 10 folds for each of 1 candidates, totalling 10 fits\n"
     ]
    },
    {
     "name": "stderr",
     "output_type": "stream",
     "text": [
      "[Parallel(n_jobs=-1)]: Done   7 out of  10 | elapsed:   12.7s remaining:    5.4s\n",
      "[Parallel(n_jobs=-1)]: Done  10 out of  10 | elapsed:   14.6s finished\n"
     ]
    },
    {
     "name": "stdout",
     "output_type": "stream",
     "text": [
      "Mean Fit Time 29.685544967651367\n",
      "Mean Score Time 251.53770446777347\n",
      "KNeighborsClassifier(algorithm='brute', leaf_size=30, metric='mahalanobis',\n",
      "           metric_params={'V': array([[ 13.47928,   3.3869 , ..., -10.72699,   3.52751],\n",
      "       [  3.3869 ,   1.15006, ...,  -2.26689,   1.20066],\n",
      "       ...,\n",
      "       [-10.72699,  -2.26689, ...,   9.15054,  -2.35692],\n",
      "       [  3.52751,   1.20066, ...,  -2.35692,   1.2535 ]])},\n",
      "           n_jobs=1, n_neighbors=5, p=2, weights='distance')\n",
      "Train Accuracy  1.0 , Test Accuracy 0.8096947935368043 F1  4.840003012520953\n",
      "########################################\n",
      "Size  Full  Algorithm  KNN  Trial  0  Split  2  :\n",
      "Fitting 10 folds for each of 1 candidates, totalling 10 fits\n"
     ]
    },
    {
     "name": "stderr",
     "output_type": "stream",
     "text": [
      "[Parallel(n_jobs=-1)]: Done   7 out of  10 | elapsed:   13.2s remaining:    5.6s\n",
      "[Parallel(n_jobs=-1)]: Done  10 out of  10 | elapsed:   15.0s finished\n"
     ]
    },
    {
     "name": "stdout",
     "output_type": "stream",
     "text": [
      "Mean Fit Time 28.122878074645996\n",
      "Mean Score Time 273.4466791152954\n",
      "KNeighborsClassifier(algorithm='brute', leaf_size=30, metric='mahalanobis',\n",
      "           metric_params={'V': array([[ 13.47928,   3.3869 , ..., -10.72699,   3.52751],\n",
      "       [  3.3869 ,   1.15006, ...,  -2.26689,   1.20066],\n",
      "       ...,\n",
      "       [-10.72699,  -2.26689, ...,   9.15054,  -2.35692],\n",
      "       [  3.52751,   1.20066, ...,  -2.35692,   1.2535 ]])},\n",
      "           n_jobs=1, n_neighbors=5, p=2, weights='distance')\n",
      "Train Accuracy  1.0 , Test Accuracy 0.8061041292639138 F1  4.821743251461538\n",
      "########################################\n",
      "Size  Full  Algorithm  KNN  Trial  0  Split  3  :\n",
      "Fitting 10 folds for each of 1 candidates, totalling 10 fits\n"
     ]
    },
    {
     "name": "stderr",
     "output_type": "stream",
     "text": [
      "[Parallel(n_jobs=-1)]: Done   7 out of  10 | elapsed:   13.3s remaining:    5.6s\n",
      "[Parallel(n_jobs=-1)]: Done  10 out of  10 | elapsed:   15.4s finished\n"
     ]
    },
    {
     "name": "stdout",
     "output_type": "stream",
     "text": [
      "Mean Fit Time 31.248021125793457\n",
      "Mean Score Time 248.42040538787842\n",
      "KNeighborsClassifier(algorithm='brute', leaf_size=30, metric='mahalanobis',\n",
      "           metric_params={'V': array([[ 1.15006,  3.20444, ..., -2.26689,  1.20066],\n",
      "       [ 3.20444, 11.44127, ..., -9.7463 ,  3.33831],\n",
      "       ...,\n",
      "       [-2.26689, -9.7463 , ...,  9.15054, -2.35692],\n",
      "       [ 1.20066,  3.33831, ..., -2.35692,  1.2535 ]])},\n",
      "           n_jobs=1, n_neighbors=5, p=2, weights='distance')\n",
      "Train Accuracy  1.0 , Test Accuracy 0.8525179856115108 F1  5.097088400807916\n",
      "########################################\n",
      "Size  Full  Algorithm  KNN  Trial  0  Split  4  :\n",
      "Fitting 10 folds for each of 1 candidates, totalling 10 fits\n"
     ]
    },
    {
     "name": "stderr",
     "output_type": "stream",
     "text": [
      "[Parallel(n_jobs=-1)]: Done   7 out of  10 | elapsed:   13.2s remaining:    5.6s\n",
      "[Parallel(n_jobs=-1)]: Done  10 out of  10 | elapsed:   15.2s finished\n"
     ]
    },
    {
     "name": "stdout",
     "output_type": "stream",
     "text": [
      "Mean Fit Time 23.91829490661621\n",
      "Mean Score Time 254.20222282409665\n",
      "KNeighborsClassifier(algorithm='brute', leaf_size=30, metric='mahalanobis',\n",
      "           metric_params={'V': array([[ 13.47928,   3.3869 , ..., -10.72699,   3.52751],\n",
      "       [  3.3869 ,   1.15006, ...,  -2.26689,   1.20066],\n",
      "       ...,\n",
      "       [-10.72699,  -2.26689, ...,   9.15054,  -2.35692],\n",
      "       [  3.52751,   1.20066, ...,  -2.35692,   1.2535 ]])},\n",
      "           n_jobs=1, n_neighbors=5, p=2, weights='distance')\n",
      "Train Accuracy  1.0 , Test Accuracy 0.8432432432432433 F1  5.077178763835903\n",
      "########################################\n",
      "Size  Full  Algorithm  KNN  Trial  0  Split  5  :\n",
      "Fitting 10 folds for each of 1 candidates, totalling 10 fits\n"
     ]
    },
    {
     "name": "stderr",
     "output_type": "stream",
     "text": [
      "[Parallel(n_jobs=-1)]: Done   7 out of  10 | elapsed:   14.1s remaining:    6.0s\n",
      "[Parallel(n_jobs=-1)]: Done  10 out of  10 | elapsed:   16.0s finished\n"
     ]
    },
    {
     "name": "stdout",
     "output_type": "stream",
     "text": [
      "Mean Fit Time 28.37855815887451\n",
      "Mean Score Time 325.1882553100586\n",
      "KNeighborsClassifier(algorithm='brute', leaf_size=30, metric='mahalanobis',\n",
      "           metric_params={'V': array([[ 13.47928,  12.40461, ..., -10.72699,   3.52751],\n",
      "       [ 12.40461,  11.44127, ...,  -9.7463 ,   3.33831],\n",
      "       ...,\n",
      "       [-10.72699,  -9.7463 , ...,   9.15054,  -2.35692],\n",
      "       [  3.52751,   3.33831, ...,  -2.35692,   1.2535 ]])},\n",
      "           n_jobs=1, n_neighbors=5, p=2, weights='distance')\n",
      "Train Accuracy  1.0 , Test Accuracy 0.8357400722021661 F1  4.978526660731116\n",
      "########################################\n",
      "Size  Full  Algorithm  KNN  Trial  0  Split  6  :\n",
      "Fitting 10 folds for each of 1 candidates, totalling 10 fits\n"
     ]
    },
    {
     "name": "stderr",
     "output_type": "stream",
     "text": [
      "[Parallel(n_jobs=-1)]: Done   7 out of  10 | elapsed:   13.8s remaining:    5.9s\n",
      "[Parallel(n_jobs=-1)]: Done  10 out of  10 | elapsed:   15.8s finished\n"
     ]
    },
    {
     "name": "stdout",
     "output_type": "stream",
     "text": [
      "Mean Fit Time 24.996328353881836\n",
      "Mean Score Time 276.27506256103516\n",
      "KNeighborsClassifier(algorithm='brute', leaf_size=30, metric='mahalanobis',\n",
      "           metric_params={'V': array([[ 13.47928,   3.3869 , ..., -10.72699,   3.52751],\n",
      "       [  3.3869 ,   1.15006, ...,  -2.26689,   1.20066],\n",
      "       ...,\n",
      "       [-10.72699,  -2.26689, ...,   9.15054,  -2.35692],\n",
      "       [  3.52751,   1.20066, ...,  -2.35692,   1.2535 ]])},\n",
      "           n_jobs=1, n_neighbors=5, p=2, weights='distance')\n",
      "Train Accuracy  1.0 , Test Accuracy 0.8393501805054152 F1  5.018115718304611\n",
      "########################################\n",
      "Size  Full  Algorithm  KNN  Trial  0  Split  7  :\n",
      "Fitting 10 folds for each of 1 candidates, totalling 10 fits\n"
     ]
    },
    {
     "name": "stderr",
     "output_type": "stream",
     "text": [
      "[Parallel(n_jobs=-1)]: Done   7 out of  10 | elapsed:   12.9s remaining:    5.5s\n",
      "[Parallel(n_jobs=-1)]: Done  10 out of  10 | elapsed:   15.1s finished\n"
     ]
    },
    {
     "name": "stdout",
     "output_type": "stream",
     "text": [
      "Mean Fit Time 20.30951976776123\n",
      "Mean Score Time 270.5692529678345\n",
      "KNeighborsClassifier(algorithm='brute', leaf_size=30, metric='mahalanobis',\n",
      "           metric_params={'V': array([[ 13.47928,   3.3869 , ..., -10.72699,   3.52751],\n",
      "       [  3.3869 ,   1.15006, ...,  -2.26689,   1.20066],\n",
      "       ...,\n",
      "       [-10.72699,  -2.26689, ...,   9.15054,  -2.35692],\n",
      "       [  3.52751,   1.20066, ...,  -2.35692,   1.2535 ]])},\n",
      "           n_jobs=1, n_neighbors=5, p=2, weights='distance')\n",
      "Train Accuracy  1.0 , Test Accuracy 0.7992766726943942 F1  4.783289499046911\n",
      "########################################\n",
      "Size  Full  Algorithm  KNN  Trial  0  Split  8  :\n",
      "Fitting 10 folds for each of 1 candidates, totalling 10 fits\n"
     ]
    },
    {
     "name": "stderr",
     "output_type": "stream",
     "text": [
      "[Parallel(n_jobs=-1)]: Done   7 out of  10 | elapsed:   14.8s remaining:    6.3s\n",
      "[Parallel(n_jobs=-1)]: Done  10 out of  10 | elapsed:   16.8s finished\n"
     ]
    },
    {
     "name": "stdout",
     "output_type": "stream",
     "text": [
      "Mean Fit Time 28.123188018798828\n",
      "Mean Score Time 286.6070508956909\n",
      "KNeighborsClassifier(algorithm='brute', leaf_size=30, metric='mahalanobis',\n",
      "           metric_params={'V': array([[ 13.47928,   3.3869 , ..., -10.72699,   3.52751],\n",
      "       [  3.3869 ,   1.15006, ...,  -2.26689,   1.20066],\n",
      "       ...,\n",
      "       [-10.72699,  -2.26689, ...,   9.15054,  -2.35692],\n",
      "       [  3.52751,   1.20066, ...,  -2.35692,   1.2535 ]])},\n",
      "           n_jobs=1, n_neighbors=5, p=2, weights='distance')\n",
      "Train Accuracy  1.0 , Test Accuracy 0.8297101449275363 F1  4.9672420000803115\n",
      "########################################\n",
      "Size  Full  Algorithm  KNN  Trial  0  Split  9  :\n",
      "Fitting 10 folds for each of 1 candidates, totalling 10 fits\n"
     ]
    },
    {
     "name": "stderr",
     "output_type": "stream",
     "text": [
      "[Parallel(n_jobs=-1)]: Done   7 out of  10 | elapsed:   13.1s remaining:    5.6s\n",
      "[Parallel(n_jobs=-1)]: Done  10 out of  10 | elapsed:   15.0s finished\n"
     ]
    },
    {
     "name": "stdout",
     "output_type": "stream",
     "text": [
      "Mean Fit Time 23.43442440032959\n",
      "Mean Score Time 253.1073331832886\n",
      "KNeighborsClassifier(algorithm='brute', leaf_size=30, metric='mahalanobis',\n",
      "           metric_params={'V': array([[ 13.47928,   3.3869 , ...,  26.40426, -10.72699],\n",
      "       [  3.3869 ,   1.15006, ...,   6.97027,  -2.26689],\n",
      "       ...,\n",
      "       [ 26.40426,   6.97027, ...,  52.09967, -20.53184],\n",
      "       [-10.72699,  -2.26689, ..., -20.53184,   9.15054]])},\n",
      "           n_jobs=1, n_neighbors=5, p=2, weights='distance')\n",
      "Train Accuracy  1.0 , Test Accuracy 0.8257713248638838 F1  4.946224211876582\n",
      "########################################\n"
     ]
    }
   ],
   "source": [
    "types = \"Solar Data\"\n",
    "cycles = 1\n",
    "subtype = \"All\"\n",
    "sizeDict = {\n",
    "                \"Full\":None,\n",
    "                #\"Min-10\":10,\n",
    "                #\"Min-20\":20,\n",
    "                #\"Min-30\":30,\n",
    "                #\"Min-40\":40\n",
    "                }\n",
    "AllWork(types,subtype,sizeDict,cycles = cycles, out=True,cross_validation=10)"
   ]
  },
  {
   "cell_type": "code",
   "execution_count": null,
   "metadata": {
    "collapsed": true
   },
   "outputs": [],
   "source": []
  },
  {
   "cell_type": "code",
   "execution_count": null,
   "metadata": {
    "collapsed": true
   },
   "outputs": [],
   "source": []
  },
  {
   "cell_type": "code",
   "execution_count": null,
   "metadata": {
    "collapsed": true
   },
   "outputs": [],
   "source": []
  },
  {
   "cell_type": "code",
   "execution_count": null,
   "metadata": {
    "collapsed": true
   },
   "outputs": [],
   "source": []
  }
 ],
 "metadata": {
  "kernelspec": {
   "display_name": "Python 3",
   "language": "python",
   "name": "python3"
  }
 },
 "nbformat": 4,
 "nbformat_minor": 2
}
