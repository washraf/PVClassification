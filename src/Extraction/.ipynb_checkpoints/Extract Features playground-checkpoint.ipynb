{
 "cells": [
  {
   "cell_type": "code",
   "execution_count": null,
   "metadata": {
    "collapsed": true
   },
   "outputs": [],
   "source": []
  },
  {
   "cell_type": "code",
   "execution_count": null,
   "metadata": {
    "collapsed": true
   },
   "outputs": [],
   "source": [
    "#imgs = LoadImages(\"Clean\")\n",
    "\n",
    "#print(imgs[4][:,:,4])\n",
    "\n",
    "#plt.figure(figsize=(15,15))\n",
    "#plt.imshow(imgs[4], cmap=\"gray\")\n",
    "\n",
    "#Gray = color.rgb2gray(imgs[0])\n",
    "#result = toBitMap(Gray)\n",
    "#getBlackandWhiteCount(result)\n",
    "\n",
    "#plt.figure(figsize=(15,15))\n",
    "#plt.imshow(result, cmap=\"gray\")\n",
    "\n",
    "#skimage.measure.shannon_entropy(Gray)\n",
    "\n",
    "Calculate Entropy Manually\n",
    "\n",
    "#coMatrix= GetCoMatrix(Gray)\n",
    "#I,J,D,A = coMatrix.shape\n",
    "\n",
    "entropy = np.zeros((D,A))\n",
    "shannon = np.zeros((D,A))\n",
    "for d in range(0,D):\n",
    "    for a in range (0,A):\n",
    "        e = 0\n",
    "        for i in range(0,I):\n",
    "            for j in range(0,J):\n",
    "                e+= ((coMatrix[i,j,d,a]+0.000000001)*np.log(coMatrix[i,j,d,a]+0.000000001))\n",
    "        e = e *-1\n",
    "        entropy[d,a] = e\n",
    "        shannon[d,a] = skimage.measure.shannon_entropy(coMatrix[:,:,d,a])\n",
    "print(entropy)\n",
    "print(shannon)\n",
    "\n",
    "GetTextureFeature(coMatrix,'contrast')"
   ]
  }
 ],
 "metadata": {
  "kernelspec": {
   "display_name": "Python 3",
   "language": "python",
   "name": "python3"
  },
  "language_info": {
   "codemirror_mode": {
    "name": "ipython",
    "version": 3
   },
   "file_extension": ".py",
   "mimetype": "text/x-python",
   "name": "python",
   "nbconvert_exporter": "python",
   "pygments_lexer": "ipython3",
   "version": "3.6.1"
  }
 },
 "nbformat": 4,
 "nbformat_minor": 2
}
