{
 "cells": [
  {
   "cell_type": "markdown",
   "metadata": {},
   "source": [
    "# Extract Feature Steps"
   ]
  },
  {
   "cell_type": "markdown",
   "metadata": {},
   "source": [
    "## Imports"
   ]
  },
  {
   "cell_type": "code",
   "execution_count": 1,
   "metadata": {
    "collapsed": true
   },
   "outputs": [],
   "source": [
    "import matplotlib.pyplot as plt\n",
    "import matplotlib.image as mpimg\n",
    "from PIL import Image\n",
    "import os, os.path\n",
    "import fnmatch\n",
    "import numpy as np\n",
    "from scipy import misc\n",
    "import pandas as pd\n",
    "from skimage import color\n",
    "from skimage import data\n",
    "from skimage import measure\n",
    "from skimage.filters import threshold_adaptive\n",
    "from skimage.filters import threshold_otsu\n",
    "from skimage.feature.texture import greycomatrix\n",
    "from skimage.feature.texture import greycoprops\n",
    "import skimage\n",
    "from scipy.stats import kurtosis\n",
    "from scipy.stats import skew\n",
    "#%pylab inline\n",
    "%matplotlib inline"
   ]
  },
  {
   "cell_type": "markdown",
   "metadata": {},
   "source": [
    "## Extract Statisitcal Features\n",
    "stattisitcal features are:\n",
    "* Mean\n",
    "* Variance\n",
    "* Skew\n",
    "* Kurtosis"
   ]
  },
  {
   "cell_type": "code",
   "execution_count": 2,
   "metadata": {
    "collapsed": true
   },
   "outputs": [],
   "source": [
    "def getStats(img, removeblack):\n",
    "    data = img.flatten()\n",
    "    if removeblack:\n",
    "        index = np.argwhere(data==0)\n",
    "        data = np.delete(data, index)\n",
    "    return [np.mean(data), np.var(data), skew(data), kurtosis(data)]"
   ]
  },
  {
   "cell_type": "markdown",
   "metadata": {},
   "source": [
    "## Convert Image to BitMap"
   ]
  },
  {
   "cell_type": "markdown",
   "metadata": {},
   "source": [
    "Source Code http://tonysyu.github.io/scikit-image/auto_examples/plot_otsu.html\n",
    "\n",
    "The threshould is picked by https://en.wikipedia.org/wiki/Otsu's_method\n",
    "\n",
    "The image is then converted to bit map"
   ]
  },
  {
   "cell_type": "code",
   "execution_count": 3,
   "metadata": {
    "collapsed": true
   },
   "outputs": [],
   "source": [
    "def toBitMap(gray):\n",
    "    thresh = threshold_otsu(gray)\n",
    "    bitmap = np.dot((gray > thresh).astype(float),1)\n",
    "    return bitmap"
   ]
  },
  {
   "cell_type": "markdown",
   "metadata": {},
   "source": [
    "Count ratio between black and white ratios"
   ]
  },
  {
   "cell_type": "code",
   "execution_count": 4,
   "metadata": {
    "collapsed": true
   },
   "outputs": [],
   "source": [
    "def getBlackandWhiteCount(bitmaparray):\n",
    "    total = len(bitmaparray.flatten())\n",
    "    white = np.count_nonzero(bitmaparray.flatten())\n",
    "    black = total-white\n",
    "    return [black/total, white/total]"
   ]
  },
  {
   "cell_type": "markdown",
   "metadata": {},
   "source": [
    "## GCLM Texture Features\n",
    "Get Value of Texture src:http://scikit-image.org/docs/0.7.0/api/skimage.feature.texture.html"
   ]
  },
  {
   "cell_type": "code",
   "execution_count": 5,
   "metadata": {
    "collapsed": true
   },
   "outputs": [],
   "source": [
    "def GetCoMatrix(gray):\n",
    "    newGray = (gray).astype(int)\n",
    "    coMatrix = greycomatrix(newGray, [1], [0,np.pi/4,np.pi/2,3*np.pi/4], levels=256, normed=True, symmetric=True)\n",
    "    return coMatrix"
   ]
  },
  {
   "cell_type": "code",
   "execution_count": null,
   "metadata": {
    "collapsed": true
   },
   "outputs": [],
   "source": []
  },
  {
   "cell_type": "code",
   "execution_count": 6,
   "metadata": {
    "collapsed": true
   },
   "outputs": [],
   "source": [
    "def GetTextureFeature(coMatrix,feature):\n",
    "    featurevalues = greycoprops(coMatrix, feature)\n",
    "    return featurevalues"
   ]
  },
  {
   "cell_type": "code",
   "execution_count": 7,
   "metadata": {
    "collapsed": true
   },
   "outputs": [],
   "source": [
    "def GetEntropy(coMatrix):\n",
    "    I,J,D,A = coMatrix.shape\n",
    "    shannon = np.zeros((D,A))\n",
    "    for d in range(0,D):\n",
    "        for a in range (0,A):\n",
    "            shannon[d,a] = skimage.measure.shannon_entropy(coMatrix[:,:,d,a])\n",
    "    return shannon"
   ]
  },
  {
   "cell_type": "markdown",
   "metadata": {},
   "source": [
    "# Load Data"
   ]
  },
  {
   "cell_type": "code",
   "execution_count": 8,
   "metadata": {
    "collapsed": true
   },
   "outputs": [],
   "source": [
    "def files_within(directory_path, pattern=\"*\"):\n",
    "    for dirpath, dirnames, filenames in os.walk(directory_path):\n",
    "        for file_name in fnmatch.filter(filenames, pattern):\n",
    "            yield os.path.join(dirpath, file_name)"
   ]
  },
  {
   "cell_type": "code",
   "execution_count": 9,
   "metadata": {
    "collapsed": true
   },
   "outputs": [],
   "source": [
    "def LoadImages(path,ImgsType):\n",
    "    imgs = []\n",
    "    files = list(files_within(\"D://Solar Panels//\"+path,\"*.jpg\"))\n",
    "    ffiles = []\n",
    "    for file in files:\n",
    "        #print(file)\n",
    "        if ImgsType not in file: \n",
    "            continue\n",
    "        img = Image.open(file)\n",
    "        #img = img.resize((1024, 1024))\n",
    "        img = np.array(img)\n",
    "        #print(file,\" \",img.shape)\n",
    "        imgs.append(img)\n",
    "        ffiles.append(file)\n",
    "    #imgs = np.array(imgs)\n",
    "    print(len(imgs))\n",
    "    return imgs,ffiles"
   ]
  },
  {
   "cell_type": "markdown",
   "metadata": {},
   "source": [
    "# Create Data Set"
   ]
  },
  {
   "cell_type": "markdown",
   "metadata": {},
   "source": [
    "### Selected Features are:\n",
    "* All Ranges Mean Value\n",
    "* All Range Var\n",
    "* All Ranges Skew\n",
    "* All Ranges kurtosis\n",
    "* Red Ranges Mean Value\n",
    "* Red Range Var\n",
    "* Red Ranges Skew\n",
    "* Red Ranges kurtosis\n",
    "* Green Ranges Mean Value\n",
    "* Green Range Var\n",
    "* Green Ranges Skew\n",
    "* Green Ranges kurtosis\n",
    "* Blue Ranges Mean Value\n",
    "* Blue Range var\n",
    "* Blue Ranges Skew\n",
    "* Blue Ranges kurtosis\n",
    "* Gray Ranges Mean Value\n",
    "* Gray Range var\n",
    "* Gray Ranges Skew\n",
    "* Gray Ranges kurtosis\n",
    "-------------------\n",
    "* Black Ratio\n",
    "* White Ratio\n",
    "* Contrast Effect (4)\n",
    "* Dissimilarity Effect (4)\n",
    "* Homogeneity (4)\n",
    "* Energy (4)\n",
    "* Correlation (4)\n",
    "* Entropy (4)"
   ]
  },
  {
   "cell_type": "code",
   "execution_count": 10,
   "metadata": {
    "collapsed": true
   },
   "outputs": [],
   "source": [
    "columns = [\"Amean\",\"Avar\",\"ASkew\", \"AKurt\",\n",
    "           \"Rmean\",\"Rvar\",\"RSkew\", \"RKurt\",\n",
    "           \"Gmean\",\"Gvar\",\"GSkew\", \"GKurt\",\n",
    "           \"Bmean\",\"Bvar\",\"BSkew\", \"BKurt\",\n",
    "           \"Graymean\",\"Grayvar\",\"GraySkew\", \"GrayKurt\",\n",
    "           \"BlackRatio\",\"WhiteRatio\",\n",
    "           \"Contrast0\",\"Contrast45\",\"Contrast90\",\"Contrast135\",\n",
    "           \"Dissimilarity0\",\"Dissimilarity45\",\"Dissimilarity20\",\"Dissimilarity2PI/2\",\n",
    "           \"Homogeneity0\",\"Homogeneity45\",\"Homogeneity90\",\"Homogeneity135\",\n",
    "           \"Energy0\",\"Energy45\",\"Energy20\",\"Energy135\",\n",
    "           \"Correlation0\",\"Correlation45\",\"Correlation90\",\"Correlation135\",\n",
    "           \"Entropy0\",\"Entropy45\",\"Entropy90\",\"Entropy135\",\n",
    "           \"FileAddress\"\n",
    "          ]"
   ]
  },
  {
   "cell_type": "code",
   "execution_count": 11,
   "metadata": {
    "collapsed": true
   },
   "outputs": [],
   "source": [
    "def allWork(path,ImgsType, removeblack = True):\n",
    "    imgs,files = LoadImages(path,ImgsType)\n",
    "    data = []\n",
    "    for i in range(0,len(imgs)):\n",
    "        Astats = getStats(imgs[i],removeblack)\n",
    "        Rstats = getStats(imgs[i][:,:,0],removeblack)\n",
    "        Gstats = getStats(imgs[i][:,:,1],removeblack)\n",
    "        Bstats = getStats(imgs[i][:,:,2],removeblack)\n",
    "        Gray = color.rgb2gray(imgs[i])*255 #* 255 # * 255 due to scale issues (0-1) -> (0->255)\n",
    "        Graystats = getStats(Gray,removeblack)\n",
    "        \n",
    "        #black and white ratios and entropy\n",
    "        [b,w] = getBlackandWhiteCount(toBitMap(Gray))\n",
    "        #origionalentropy = skimage.measure.shannon_entropy(Gray)\n",
    "        \n",
    "        #texture features\n",
    "        coMatrix = GetCoMatrix(Gray)\n",
    "        contrast = GetTextureFeature(coMatrix,'contrast')\n",
    "        dissimilarity = GetTextureFeature(coMatrix,'dissimilarity')\n",
    "        homogeneity = GetTextureFeature(coMatrix,'homogeneity')\n",
    "        energy = GetTextureFeature(coMatrix,'energy')\n",
    "        correlation = GetTextureFeature(coMatrix,'correlation')\n",
    "        entropy = GetEntropy(coMatrix)\n",
    "    \n",
    "        data.append([ Astats[0],Astats[1],Astats[2],Astats[3],  \n",
    "                     Rstats[0],Rstats[1],Rstats[2],Rstats[3], \n",
    "                     Gstats[0],Gstats[1],Gstats[2],Gstats[3], \n",
    "                     Bstats[0],Bstats[1],Bstats[2],Bstats[3],\n",
    "                     Graystats[0],Graystats[1],Graystats[2],Graystats[3],\n",
    "                     b, w,\n",
    "                     contrast[0][0], contrast[0][1], contrast[0][2],contrast[0][3],\n",
    "                     dissimilarity[0][0],dissimilarity[0][1],dissimilarity[0][2],dissimilarity[0][3],\n",
    "                     homogeneity[0][0],homogeneity[0][1],homogeneity[0][2],homogeneity[0][3],\n",
    "                     energy[0][0],energy[0][1],energy[0][2],energy[0][3],\n",
    "                     correlation[0][0],correlation[0][1],correlation[0][2],correlation[0][3],\n",
    "                     entropy[0][0],entropy[0][1],entropy[0][2],entropy[0][3],\n",
    "                     files[i]\n",
    "                    ])\n",
    "\n",
    "    numpyarray = np.array(data)\n",
    "    df = pd.DataFrame(numpyarray, columns = columns)\n",
    "    df.to_csv(path+ImgsType+'.csv',index = False)\n",
    "    return df"
   ]
  },
  {
   "cell_type": "code",
   "execution_count": 17,
   "metadata": {},
   "outputs": [
    {
     "name": "stdout",
     "output_type": "stream",
     "text": [
      "369\n"
     ]
    },
    {
     "name": "stderr",
     "output_type": "stream",
     "text": [
      "C:\\Users\\eng_w\\Anaconda3\\lib\\site-packages\\skimage\\feature\\texture.py:109: FutureWarning: Conversion of the second argument of issubdtype from `float` to `np.floating` is deprecated. In future, it will be treated as `np.float64 == np.dtype(float).type`.\n",
      "  if np.issubdtype(image.dtype, np.float):\n"
     ]
    },
    {
     "name": "stdout",
     "output_type": "stream",
     "text": [
      "419\n",
      "565\n",
      "391\n",
      "344\n",
      "669\n"
     ]
    }
   ],
   "source": [
    "path = \"Cropped//\"\n",
    "removeblack = True\n",
    "\n",
    "dfClean = allWork(path,\"Clean\",removeblack)\n",
    "dfDirty020 = allWork(path,\"Dirty (0-20)\",removeblack)\n",
    "dfDirty2040 = allWork(path,\"Dirty (20-40)\",removeblack)\n",
    "dfDirty4060 = allWork(path,\"Dirty (40-60)\",removeblack)\n",
    "dfDirty6080 = allWork(path,\"Dirty (60-80)\",removeblack)\n",
    "dfDirty80100 = allWork(path,\"Dirty (80-100)\",removeblack)"
   ]
  },
  {
   "cell_type": "code",
   "execution_count": 14,
   "metadata": {},
   "outputs": [
    {
     "name": "stdout",
     "output_type": "stream",
     "text": [
      "369\n"
     ]
    },
    {
     "name": "stderr",
     "output_type": "stream",
     "text": [
      "C:\\Users\\eng_w\\Anaconda3\\lib\\site-packages\\skimage\\feature\\texture.py:109: FutureWarning: Conversion of the second argument of issubdtype from `float` to `np.floating` is deprecated. In future, it will be treated as `np.float64 == np.dtype(float).type`.\n",
      "  if np.issubdtype(image.dtype, np.float):\n"
     ]
    },
    {
     "name": "stdout",
     "output_type": "stream",
     "text": [
      "419\n",
      "565\n",
      "391\n",
      "344\n",
      "669\n"
     ]
    }
   ],
   "source": [
    "path = \"NoBG\"\n",
    "removeblack = True\n",
    "\n",
    "dfClean = allWork(path,\"Clean\",removeblack)\n",
    "dfDirty020 = allWork(path,\"Dirty (0-20)\",removeblack)\n",
    "dfDirty2040 = allWork(path,\"Dirty (20-40)\",removeblack)\n",
    "dfDirty4060 = allWork(path,\"Dirty (40-60)\",removeblack)\n",
    "dfDirty6080 = allWork(path,\"Dirty (60-80)\",removeblack)\n",
    "dfDirty80100 = allWork(path,\"Dirty (80-100)\",removeblack)"
   ]
  },
  {
   "cell_type": "code",
   "execution_count": 13,
   "metadata": {
    "collapsed": true
   },
   "outputs": [],
   "source": [
    "#dfClean.head()"
   ]
  },
  {
   "cell_type": "code",
   "execution_count": 14,
   "metadata": {
    "collapsed": true
   },
   "outputs": [],
   "source": [
    "#df.dtypes"
   ]
  },
  {
   "cell_type": "markdown",
   "metadata": {
    "collapsed": true
   },
   "source": [
    "# PlayGround"
   ]
  },
  {
   "cell_type": "code",
   "execution_count": null,
   "metadata": {
    "collapsed": true
   },
   "outputs": [],
   "source": [
    "#imgs = LoadImages(\"F:\\\\NoBG\\\\\",\"Clean\")\n",
    "#print(len(imgs))\n",
    "#print(imgs[0][:,:,2])"
   ]
  },
  {
   "cell_type": "code",
   "execution_count": 220,
   "metadata": {
    "collapsed": true
   },
   "outputs": [],
   "source": [
    "#plt.figure(figsize=(15,15))\n",
    "#Gray = color.rgb2gray(imgs[4])\n",
    "#print(imgs[4].shape)\n",
    "#print(imgs[4][:,:,0])\n",
    "#plt.imshow(imgs[4][:,:,2],cmap = plt.cm.Blues_r)"
   ]
  },
  {
   "cell_type": "code",
   "execution_count": 221,
   "metadata": {
    "collapsed": true
   },
   "outputs": [],
   "source": [
    "#result = toBitMap(Gray)\n",
    "#plt.figure(figsize=(15,15))\n",
    "#plt.imshow(result, cmap=\"gray\")"
   ]
  },
  {
   "cell_type": "code",
   "execution_count": null,
   "metadata": {
    "collapsed": true
   },
   "outputs": [],
   "source": []
  }
 ],
 "metadata": {
  "kernelspec": {
   "display_name": "Python 3",
   "language": "python",
   "name": "python3"
  },
  "language_info": {
   "codemirror_mode": {
    "name": "ipython",
    "version": 3
   },
   "file_extension": ".py",
   "mimetype": "text/x-python",
   "name": "python",
   "nbconvert_exporter": "python",
   "pygments_lexer": "ipython3",
   "version": "3.7.3"
  }
 },
 "nbformat": 4,
 "nbformat_minor": 2
}
