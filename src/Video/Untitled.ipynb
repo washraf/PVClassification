{
 "cells": [
  {
   "cell_type": "code",
   "execution_count": 27,
   "metadata": {
    "collapsed": true
   },
   "outputs": [],
   "source": [
    "import cv2\n",
    "import os"
   ]
  },
  {
   "cell_type": "code",
   "execution_count": 28,
   "metadata": {
    "collapsed": true
   },
   "outputs": [],
   "source": [
    "def extractFrames(pathIn, pathOut):\n",
    "    os.mkdir(pathOut)\n",
    "\n",
    "    cap = cv2.VideoCapture(pathIn)\n",
    "    count = 0\n",
    "\n",
    "    while (cap.isOpened()):\n",
    "\n",
    "        # Capture frame-by-frame\n",
    "        ret, frame = cap.read()\n",
    "\n",
    "        if ret == True:\n",
    "            print('Read %d frame: ' % count, ret)\n",
    "            cv2.imwrite(os.path.join(pathOut, \"frame{:d}.jpg\".format(count)), frame)  # save frame as JPEG file\n",
    "            count += 1\n",
    "        else:\n",
    "            break\n",
    "\n",
    "    # When everything done, release the capture\n",
    "    cap.release()\n",
    "    cv2.destroyAllWindows()"
   ]
  },
  {
   "cell_type": "code",
   "execution_count": 50,
   "metadata": {},
   "outputs": [],
   "source": [
    "def extractFrames2(pathIn,fileName, pathOut, limit):\n",
    "    # Playing video from file:\n",
    "    try:\n",
    "        if not os.path.exists(pathOut):\n",
    "            os.makedirs(pathOut)\n",
    "    except OSError:\n",
    "        print ('Error: Creating directory of data')\n",
    "    \n",
    "    cap = cv2.VideoCapture(pathIn+\"/\"+fileName+\".MP4\")\n",
    "    currentFrame = 0\n",
    "    while(True):\n",
    "        # Capture frame-by-frame\n",
    "        ret, frame = cap.read()\n",
    "        # Saves image of the current frame in jpg file\n",
    "        #if(currentFrame % 10 != 0):\n",
    "        if(not(7700 <= currentFrame <= 7770)):\n",
    "            currentFrame += 1\n",
    "            continue\n",
    "        name = pathOut+\"/\"+fileName+'-frame' + str(currentFrame) + '.jpg'\n",
    "        print ('Creating...' + name)\n",
    "        cv2.imwrite(name, frame)\n",
    "        # To stop duplicate images\n",
    "        currentFrame += 1\n",
    "        if (currentFrame>=limit):\n",
    "            break\n",
    "    # When everything done, release the capture\n",
    "    cap.release()\n",
    "    cv2.destroyAllWindows()"
   ]
  },
  {
   "cell_type": "code",
   "execution_count": 51,
   "metadata": {},
   "outputs": [
    {
     "name": "stdout",
     "output_type": "stream",
     "text": [
      "Creating...F://Solar Data//27-8-18-Arr//Dirty (80-100)//GOPR1649/GOPR1649-frame7700.jpg\n",
      "Creating...F://Solar Data//27-8-18-Arr//Dirty (80-100)//GOPR1649/GOPR1649-frame7701.jpg\n",
      "Creating...F://Solar Data//27-8-18-Arr//Dirty (80-100)//GOPR1649/GOPR1649-frame7702.jpg\n",
      "Creating...F://Solar Data//27-8-18-Arr//Dirty (80-100)//GOPR1649/GOPR1649-frame7703.jpg\n",
      "Creating...F://Solar Data//27-8-18-Arr//Dirty (80-100)//GOPR1649/GOPR1649-frame7704.jpg\n",
      "Creating...F://Solar Data//27-8-18-Arr//Dirty (80-100)//GOPR1649/GOPR1649-frame7705.jpg\n",
      "Creating...F://Solar Data//27-8-18-Arr//Dirty (80-100)//GOPR1649/GOPR1649-frame7706.jpg\n",
      "Creating...F://Solar Data//27-8-18-Arr//Dirty (80-100)//GOPR1649/GOPR1649-frame7707.jpg\n",
      "Creating...F://Solar Data//27-8-18-Arr//Dirty (80-100)//GOPR1649/GOPR1649-frame7708.jpg\n",
      "Creating...F://Solar Data//27-8-18-Arr//Dirty (80-100)//GOPR1649/GOPR1649-frame7709.jpg\n",
      "Creating...F://Solar Data//27-8-18-Arr//Dirty (80-100)//GOPR1649/GOPR1649-frame7710.jpg\n",
      "Creating...F://Solar Data//27-8-18-Arr//Dirty (80-100)//GOPR1649/GOPR1649-frame7711.jpg\n",
      "Creating...F://Solar Data//27-8-18-Arr//Dirty (80-100)//GOPR1649/GOPR1649-frame7712.jpg\n",
      "Creating...F://Solar Data//27-8-18-Arr//Dirty (80-100)//GOPR1649/GOPR1649-frame7713.jpg\n",
      "Creating...F://Solar Data//27-8-18-Arr//Dirty (80-100)//GOPR1649/GOPR1649-frame7714.jpg\n",
      "Creating...F://Solar Data//27-8-18-Arr//Dirty (80-100)//GOPR1649/GOPR1649-frame7715.jpg\n",
      "Creating...F://Solar Data//27-8-18-Arr//Dirty (80-100)//GOPR1649/GOPR1649-frame7716.jpg\n",
      "Creating...F://Solar Data//27-8-18-Arr//Dirty (80-100)//GOPR1649/GOPR1649-frame7717.jpg\n",
      "Creating...F://Solar Data//27-8-18-Arr//Dirty (80-100)//GOPR1649/GOPR1649-frame7718.jpg\n",
      "Creating...F://Solar Data//27-8-18-Arr//Dirty (80-100)//GOPR1649/GOPR1649-frame7719.jpg\n",
      "Creating...F://Solar Data//27-8-18-Arr//Dirty (80-100)//GOPR1649/GOPR1649-frame7720.jpg\n",
      "Creating...F://Solar Data//27-8-18-Arr//Dirty (80-100)//GOPR1649/GOPR1649-frame7721.jpg\n",
      "Creating...F://Solar Data//27-8-18-Arr//Dirty (80-100)//GOPR1649/GOPR1649-frame7722.jpg\n",
      "Creating...F://Solar Data//27-8-18-Arr//Dirty (80-100)//GOPR1649/GOPR1649-frame7723.jpg\n",
      "Creating...F://Solar Data//27-8-18-Arr//Dirty (80-100)//GOPR1649/GOPR1649-frame7724.jpg\n",
      "Creating...F://Solar Data//27-8-18-Arr//Dirty (80-100)//GOPR1649/GOPR1649-frame7725.jpg\n",
      "Creating...F://Solar Data//27-8-18-Arr//Dirty (80-100)//GOPR1649/GOPR1649-frame7726.jpg\n",
      "Creating...F://Solar Data//27-8-18-Arr//Dirty (80-100)//GOPR1649/GOPR1649-frame7727.jpg\n",
      "Creating...F://Solar Data//27-8-18-Arr//Dirty (80-100)//GOPR1649/GOPR1649-frame7728.jpg\n",
      "Creating...F://Solar Data//27-8-18-Arr//Dirty (80-100)//GOPR1649/GOPR1649-frame7729.jpg\n",
      "Creating...F://Solar Data//27-8-18-Arr//Dirty (80-100)//GOPR1649/GOPR1649-frame7730.jpg\n",
      "Creating...F://Solar Data//27-8-18-Arr//Dirty (80-100)//GOPR1649/GOPR1649-frame7731.jpg\n",
      "Creating...F://Solar Data//27-8-18-Arr//Dirty (80-100)//GOPR1649/GOPR1649-frame7732.jpg\n",
      "Creating...F://Solar Data//27-8-18-Arr//Dirty (80-100)//GOPR1649/GOPR1649-frame7733.jpg\n",
      "Creating...F://Solar Data//27-8-18-Arr//Dirty (80-100)//GOPR1649/GOPR1649-frame7734.jpg\n",
      "Creating...F://Solar Data//27-8-18-Arr//Dirty (80-100)//GOPR1649/GOPR1649-frame7735.jpg\n",
      "Creating...F://Solar Data//27-8-18-Arr//Dirty (80-100)//GOPR1649/GOPR1649-frame7736.jpg\n",
      "Creating...F://Solar Data//27-8-18-Arr//Dirty (80-100)//GOPR1649/GOPR1649-frame7737.jpg\n",
      "Creating...F://Solar Data//27-8-18-Arr//Dirty (80-100)//GOPR1649/GOPR1649-frame7738.jpg\n",
      "Creating...F://Solar Data//27-8-18-Arr//Dirty (80-100)//GOPR1649/GOPR1649-frame7739.jpg\n",
      "Creating...F://Solar Data//27-8-18-Arr//Dirty (80-100)//GOPR1649/GOPR1649-frame7740.jpg\n",
      "Creating...F://Solar Data//27-8-18-Arr//Dirty (80-100)//GOPR1649/GOPR1649-frame7741.jpg\n",
      "Creating...F://Solar Data//27-8-18-Arr//Dirty (80-100)//GOPR1649/GOPR1649-frame7742.jpg\n",
      "Creating...F://Solar Data//27-8-18-Arr//Dirty (80-100)//GOPR1649/GOPR1649-frame7743.jpg\n",
      "Creating...F://Solar Data//27-8-18-Arr//Dirty (80-100)//GOPR1649/GOPR1649-frame7744.jpg\n",
      "Creating...F://Solar Data//27-8-18-Arr//Dirty (80-100)//GOPR1649/GOPR1649-frame7745.jpg\n",
      "Creating...F://Solar Data//27-8-18-Arr//Dirty (80-100)//GOPR1649/GOPR1649-frame7746.jpg\n",
      "Creating...F://Solar Data//27-8-18-Arr//Dirty (80-100)//GOPR1649/GOPR1649-frame7747.jpg\n",
      "Creating...F://Solar Data//27-8-18-Arr//Dirty (80-100)//GOPR1649/GOPR1649-frame7748.jpg\n",
      "Creating...F://Solar Data//27-8-18-Arr//Dirty (80-100)//GOPR1649/GOPR1649-frame7749.jpg\n",
      "Creating...F://Solar Data//27-8-18-Arr//Dirty (80-100)//GOPR1649/GOPR1649-frame7750.jpg\n",
      "Creating...F://Solar Data//27-8-18-Arr//Dirty (80-100)//GOPR1649/GOPR1649-frame7751.jpg\n",
      "Creating...F://Solar Data//27-8-18-Arr//Dirty (80-100)//GOPR1649/GOPR1649-frame7752.jpg\n",
      "Creating...F://Solar Data//27-8-18-Arr//Dirty (80-100)//GOPR1649/GOPR1649-frame7753.jpg\n",
      "Creating...F://Solar Data//27-8-18-Arr//Dirty (80-100)//GOPR1649/GOPR1649-frame7754.jpg\n",
      "Creating...F://Solar Data//27-8-18-Arr//Dirty (80-100)//GOPR1649/GOPR1649-frame7755.jpg\n",
      "Creating...F://Solar Data//27-8-18-Arr//Dirty (80-100)//GOPR1649/GOPR1649-frame7756.jpg\n",
      "Creating...F://Solar Data//27-8-18-Arr//Dirty (80-100)//GOPR1649/GOPR1649-frame7757.jpg\n",
      "Creating...F://Solar Data//27-8-18-Arr//Dirty (80-100)//GOPR1649/GOPR1649-frame7758.jpg\n",
      "Creating...F://Solar Data//27-8-18-Arr//Dirty (80-100)//GOPR1649/GOPR1649-frame7759.jpg\n",
      "Creating...F://Solar Data//27-8-18-Arr//Dirty (80-100)//GOPR1649/GOPR1649-frame7760.jpg\n",
      "Creating...F://Solar Data//27-8-18-Arr//Dirty (80-100)//GOPR1649/GOPR1649-frame7761.jpg\n",
      "Creating...F://Solar Data//27-8-18-Arr//Dirty (80-100)//GOPR1649/GOPR1649-frame7762.jpg\n",
      "Creating...F://Solar Data//27-8-18-Arr//Dirty (80-100)//GOPR1649/GOPR1649-frame7763.jpg\n",
      "Creating...F://Solar Data//27-8-18-Arr//Dirty (80-100)//GOPR1649/GOPR1649-frame7764.jpg\n",
      "Creating...F://Solar Data//27-8-18-Arr//Dirty (80-100)//GOPR1649/GOPR1649-frame7765.jpg\n",
      "Creating...F://Solar Data//27-8-18-Arr//Dirty (80-100)//GOPR1649/GOPR1649-frame7766.jpg\n",
      "Creating...F://Solar Data//27-8-18-Arr//Dirty (80-100)//GOPR1649/GOPR1649-frame7767.jpg\n",
      "Creating...F://Solar Data//27-8-18-Arr//Dirty (80-100)//GOPR1649/GOPR1649-frame7768.jpg\n",
      "Creating...F://Solar Data//27-8-18-Arr//Dirty (80-100)//GOPR1649/GOPR1649-frame7769.jpg\n",
      "Creating...F://Solar Data//27-8-18-Arr//Dirty (80-100)//GOPR1649/GOPR1649-frame7770.jpg\n"
     ]
    },
    {
     "ename": "KeyboardInterrupt",
     "evalue": "",
     "output_type": "error",
     "traceback": [
      "\u001b[1;31m---------------------------------------------------------------------------\u001b[0m",
      "\u001b[1;31mKeyboardInterrupt\u001b[0m                         Traceback (most recent call last)",
      "\u001b[1;32m<ipython-input-51-5873927674c1>\u001b[0m in \u001b[0;36m<module>\u001b[1;34m()\u001b[0m\n\u001b[0;32m      2\u001b[0m \u001b[0mfileName\u001b[0m \u001b[1;33m=\u001b[0m \u001b[1;34m'GOPR1649'\u001b[0m\u001b[1;33m\u001b[0m\u001b[0m\n\u001b[0;32m      3\u001b[0m \u001b[0mpathOut\u001b[0m \u001b[1;33m=\u001b[0m \u001b[0mpathIn\u001b[0m\u001b[1;33m+\u001b[0m\u001b[1;34m\"//\"\u001b[0m\u001b[1;33m+\u001b[0m\u001b[0mfileName\u001b[0m\u001b[1;33m\u001b[0m\u001b[0m\n\u001b[1;32m----> 4\u001b[1;33m \u001b[0mextractFrames2\u001b[0m\u001b[1;33m(\u001b[0m\u001b[0mpathIn\u001b[0m\u001b[1;33m,\u001b[0m\u001b[0mfileName\u001b[0m\u001b[1;33m,\u001b[0m \u001b[0mpathOut\u001b[0m\u001b[1;33m,\u001b[0m\u001b[1;36m8500\u001b[0m\u001b[1;33m)\u001b[0m\u001b[1;33m\u001b[0m\u001b[0m\n\u001b[0m",
      "\u001b[1;32m<ipython-input-50-c7a310922a2d>\u001b[0m in \u001b[0;36mextractFrames2\u001b[1;34m(pathIn, fileName, pathOut, limit)\u001b[0m\n\u001b[0;32m     11\u001b[0m     \u001b[1;32mwhile\u001b[0m\u001b[1;33m(\u001b[0m\u001b[1;32mTrue\u001b[0m\u001b[1;33m)\u001b[0m\u001b[1;33m:\u001b[0m\u001b[1;33m\u001b[0m\u001b[0m\n\u001b[0;32m     12\u001b[0m         \u001b[1;31m# Capture frame-by-frame\u001b[0m\u001b[1;33m\u001b[0m\u001b[1;33m\u001b[0m\u001b[0m\n\u001b[1;32m---> 13\u001b[1;33m         \u001b[0mret\u001b[0m\u001b[1;33m,\u001b[0m \u001b[0mframe\u001b[0m \u001b[1;33m=\u001b[0m \u001b[0mcap\u001b[0m\u001b[1;33m.\u001b[0m\u001b[0mread\u001b[0m\u001b[1;33m(\u001b[0m\u001b[1;33m)\u001b[0m\u001b[1;33m\u001b[0m\u001b[0m\n\u001b[0m\u001b[0;32m     14\u001b[0m         \u001b[1;31m# Saves image of the current frame in jpg file\u001b[0m\u001b[1;33m\u001b[0m\u001b[1;33m\u001b[0m\u001b[0m\n\u001b[0;32m     15\u001b[0m         \u001b[1;31m#if(currentFrame % 10 != 0):\u001b[0m\u001b[1;33m\u001b[0m\u001b[1;33m\u001b[0m\u001b[0m\n",
      "\u001b[1;31mKeyboardInterrupt\u001b[0m: "
     ]
    }
   ],
   "source": [
    "pathIn = 'F://Solar Data//27-8-18-Arr//Dirty (80-100)'\n",
    "fileName = 'GOPR1649'\n",
    "pathOut = pathIn+\"//\"+fileName\n",
    "extractFrames2(pathIn,fileName, pathOut,8500)"
   ]
  },
  {
   "cell_type": "code",
   "execution_count": null,
   "metadata": {
    "collapsed": true
   },
   "outputs": [],
   "source": []
  },
  {
   "cell_type": "code",
   "execution_count": null,
   "metadata": {
    "collapsed": true
   },
   "outputs": [],
   "source": []
  }
 ],
 "metadata": {
  "kernelspec": {
   "display_name": "Python 3",
   "language": "python",
   "name": "python3"
  }
 },
 "nbformat": 4,
 "nbformat_minor": 2
}
