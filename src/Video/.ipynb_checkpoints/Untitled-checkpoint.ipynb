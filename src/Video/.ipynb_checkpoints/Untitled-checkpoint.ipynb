{
 "cells": [
  {
   "cell_type": "code",
   "execution_count": 2,
   "metadata": {},
   "outputs": [],
   "source": [
    "import cv2\n",
    "import os"
   ]
  },
  {
   "cell_type": "code",
   "execution_count": 3,
   "metadata": {
    "collapsed": true
   },
   "outputs": [],
   "source": [
    "def extractFrames(pathIn, pathOut):\n",
    "    os.mkdir(pathOut)\n",
    "\n",
    "    cap = cv2.VideoCapture(pathIn)\n",
    "    count = 0\n",
    "\n",
    "    while (cap.isOpened()):\n",
    "\n",
    "        # Capture frame-by-frame\n",
    "        ret, frame = cap.read()\n",
    "\n",
    "        if ret == True:\n",
    "            print('Read %d frame: ' % count, ret)\n",
    "            cv2.imwrite(os.path.join(pathOut, \"frame{:d}.jpg\".format(count)), frame)  # save frame as JPEG file\n",
    "            count += 1\n",
    "        else:\n",
    "            break\n",
    "\n",
    "    # When everything done, release the capture\n",
    "    cap.release()\n",
    "    cv2.destroyAllWindows()"
   ]
  },
  {
   "cell_type": "code",
   "execution_count": 17,
   "metadata": {},
   "outputs": [],
   "source": [
    "def extractFrames2(pathIn, pathOut):\n",
    "    # Playing video from file:\n",
    "    try:\n",
    "        if not os.path.exists(pathOut):\n",
    "            os.makedirs(pathOut)\n",
    "    except OSError:\n",
    "        print ('Error: Creating directory of data')\n",
    "    \n",
    "    cap = cv2.VideoCapture(pathIn)\n",
    "    currentFrame = 0\n",
    "    while(True):\n",
    "        # Capture frame-by-frame\n",
    "        ret, frame = cap.read()\n",
    "        # Saves image of the current frame in jpg file\n",
    "        name = pathOut+'/frame' + str(currentFrame) + '.jpg'\n",
    "        print ('Creating...' + name)\n",
    "        cv2.imwrite(name, frame)\n",
    "        # To stop duplicate images\n",
    "        currentFrame += 1\n",
    "        if ret == False:\n",
    "            break\n",
    "    # When everything done, release the capture\n",
    "    cap.release()\n",
    "    cv2.destroyAllWindows()"
   ]
  },
  {
   "cell_type": "code",
   "execution_count": 18,
   "metadata": {},
   "outputs": [
    {
     "name": "stdout",
     "output_type": "stream",
     "text": [
      "Creating...GOPR0632-w/frame0.jpg\n",
      "Creating...GOPR0632-w/frame1.jpg\n",
      "Creating...GOPR0632-w/frame2.jpg\n",
      "Creating...GOPR0632-w/frame3.jpg\n",
      "Creating...GOPR0632-w/frame4.jpg\n",
      "Creating...GOPR0632-w/frame5.jpg\n",
      "Creating...GOPR0632-w/frame6.jpg\n",
      "Creating...GOPR0632-w/frame7.jpg\n",
      "Creating...GOPR0632-w/frame8.jpg\n",
      "Creating...GOPR0632-w/frame9.jpg\n",
      "Creating...GOPR0632-w/frame10.jpg\n",
      "Creating...GOPR0632-w/frame11.jpg\n",
      "Creating...GOPR0632-w/frame12.jpg\n",
      "Creating...GOPR0632-w/frame13.jpg\n",
      "Creating...GOPR0632-w/frame14.jpg\n",
      "Creating...GOPR0632-w/frame15.jpg\n",
      "Creating...GOPR0632-w/frame16.jpg\n",
      "Creating...GOPR0632-w/frame17.jpg\n",
      "Creating...GOPR0632-w/frame18.jpg\n",
      "Creating...GOPR0632-w/frame19.jpg\n",
      "Creating...GOPR0632-w/frame20.jpg\n",
      "Creating...GOPR0632-w/frame21.jpg\n",
      "Creating...GOPR0632-w/frame22.jpg\n",
      "Creating...GOPR0632-w/frame23.jpg\n",
      "Creating...GOPR0632-w/frame24.jpg\n",
      "Creating...GOPR0632-w/frame25.jpg\n",
      "Creating...GOPR0632-w/frame26.jpg\n"
     ]
    }
   ],
   "source": [
    "extractFrames2('GOPR0632.MP4', 'GOPR0632-w')"
   ]
  },
  {
   "cell_type": "code",
   "execution_count": null,
   "metadata": {
    "collapsed": true
   },
   "outputs": [],
   "source": []
  }
 ],
 "metadata": {
  "kernelspec": {
   "display_name": "Python 3",
   "language": "python",
   "name": "python3"
  },
  "language_info": {
   "codemirror_mode": {
    "name": "ipython",
    "version": 3
   },
   "file_extension": ".py",
   "mimetype": "text/x-python",
   "name": "python",
   "nbconvert_exporter": "python",
   "pygments_lexer": "ipython3",
   "version": "3.6.1"
  }
 },
 "nbformat": 4,
 "nbformat_minor": 2
}
