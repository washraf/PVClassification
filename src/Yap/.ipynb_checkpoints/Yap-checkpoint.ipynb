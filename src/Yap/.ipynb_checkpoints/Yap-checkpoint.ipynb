{
 "cells": [
  {
   "cell_type": "markdown",
   "metadata": {},
   "source": [
    "# Classification Process"
   ]
  },
  {
   "cell_type": "markdown",
   "metadata": {},
   "source": [
    "<p style=\"font-family: Arial; font-size:1.75em;color:purple; font-style:bold\"><br>\n",
    "\n",
    "Importing the Necessary Libraries<br></p>"
   ]
  },
  {
   "cell_type": "code",
   "execution_count": 96,
   "metadata": {
    "collapsed": true
   },
   "outputs": [],
   "source": [
    "import pandas as pd\n",
    "import numpy as np\n",
    "from sklearn.metrics import accuracy_score\n",
    "from sklearn.model_selection import train_test_split\n",
    "from sklearn.metrics.pairwise import euclidean_distances\n",
    "\n",
    "#Classifiers\n",
    "from sklearn.neighbors import NearestCentroid\n",
    "\n",
    "from sklearn.model_selection import GridSearchCV\n",
    "from sklearn.pipeline import Pipeline\n",
    "from sklearn.preprocessing import StandardScaler\n",
    "from sklearn.model_selection import cross_val_predict\n",
    "from sklearn.metrics import confusion_matrix\n",
    "from sklearn.metrics import f1_score\n",
    "from sklearn.model_selection import StratifiedKFold\n",
    "from sklearn.utils import shuffle\n",
    "\n",
    "import time"
   ]
  },
  {
   "cell_type": "markdown",
   "metadata": {},
   "source": [
    "<p style=\"font-family: Arial; font-size:1.75em;color:purple; font-style:bold\"><br>\n",
    "\n",
    "Creating a Pandas DataFrame from a CSV file<br></p>"
   ]
  },
  {
   "cell_type": "code",
   "execution_count": 110,
   "metadata": {},
   "outputs": [],
   "source": [
    "def CreateTrain():\n",
    "    df = pd.read_csv('Yap.csv')\n",
    "    y=df[['Class']].copy()\n",
    "    X = df.copy()\n",
    "    del X['Class']\n",
    "    X  = X[['Amean','Rmean','Gmean','Bmean']]\n",
    "    return X,y"
   ]
  },
  {
   "cell_type": "code",
   "execution_count": 111,
   "metadata": {
    "collapsed": true
   },
   "outputs": [],
   "source": [
    "def CreateDataFrame(types,subtype, level):\n",
    "    data = pd.read_csv('../Extraction/'+types+\"/\"+subtype+\"/\"+level+'.csv')\n",
    "    data[\"Class\"] = level\n",
    "    return data"
   ]
  },
  {
   "cell_type": "code",
   "execution_count": 112,
   "metadata": {
    "collapsed": true
   },
   "outputs": [],
   "source": [
    "def LoadFullData(types,subtype):\n",
    "    if(subtype==\"All\"):\n",
    "        frames = [CreateDataFrame(types,\"Roof\",\"Clean\"), \n",
    "              CreateDataFrame(types,\"Roof\",\"Dirty (0-20)\"), \n",
    "              CreateDataFrame(types,\"Roof\",\"Dirty (20-40)\"), \n",
    "              CreateDataFrame(types,\"Roof\",\"Dirty (40-60)\"),\n",
    "              CreateDataFrame(types,\"Roof\",\"Dirty (60-80)\"),\n",
    "              CreateDataFrame(types,\"Roof\",\"Dirty (80-100)\"),\n",
    "              CreateDataFrame(types,\"Grass\",\"Clean\"), \n",
    "              CreateDataFrame(types,\"Grass\",\"Dirty (0-20)\"), \n",
    "              CreateDataFrame(types,\"Grass\",\"Dirty (20-40)\"), \n",
    "              CreateDataFrame(types,\"Grass\",\"Dirty (40-60)\"),\n",
    "              CreateDataFrame(types,\"Grass\",\"Dirty (60-80)\"),\n",
    "              CreateDataFrame(types,\"Grass\",\"Dirty (80-100)\")]\n",
    "    else:\n",
    "        frames = [CreateDataFrame(types,subtype,\"Clean\"), \n",
    "              CreateDataFrame(types,subtype,\"Dirty (0-20)\"), \n",
    "              CreateDataFrame(types,subtype,\"Dirty (20-40)\"), \n",
    "              CreateDataFrame(types,subtype,\"Dirty (40-60)\"),\n",
    "              CreateDataFrame(types,subtype,\"Dirty (60-80)\"),\n",
    "              CreateDataFrame(types,subtype,\"Dirty (80-100)\")]\n",
    "    df = pd.concat(frames)\n",
    "    #Randomize\n",
    "    df = shuffle(df)\n",
    "    y=df[['Class']].copy()\n",
    "    X = df.copy()\n",
    "    del X['Class']\n",
    "    f = df[['FileAddress']].copy()\n",
    "    del X['FileAddress']\n",
    "    X  = X[['Amean','Rmean','Gmean','Bmean']]\n",
    "    return X,y,f"
   ]
  },
  {
   "cell_type": "code",
   "execution_count": 100,
   "metadata": {
    "collapsed": true
   },
   "outputs": [],
   "source": [
    "def LoadMinimizedData(types,subtype, count):\n",
    "    df = pd.read_csv('../Selection/Selection-'+types+\"-\"+subtype+\"-\"+count+\".csv\")\n",
    "    y=df[['Class']].copy()\n",
    "    X = df.copy()\n",
    "    del X['Class']\n",
    "    f = df[['FileAddress']].copy()\n",
    "    del X['FileAddress']\n",
    "    return X,y,f"
   ]
  },
  {
   "cell_type": "code",
   "execution_count": 101,
   "metadata": {
    "collapsed": true
   },
   "outputs": [],
   "source": [
    "def loader(types,subtype,datasize):\n",
    "    if(datasize==\"Full\"):\n",
    "        X,y,f = LoadFullData(types,subtype)\n",
    "    else:\n",
    "        count = datasize.split('-')[-1]\n",
    "        X,y,f = LoadMinimizedData(types,subtype,count)\n",
    "    return X,y,f"
   ]
  },
  {
   "cell_type": "markdown",
   "metadata": {},
   "source": [
    "# Classifications"
   ]
  },
  {
   "cell_type": "markdown",
   "metadata": {},
   "source": [
    "## Optimize NC Classfiers"
   ]
  },
  {
   "cell_type": "code",
   "execution_count": 102,
   "metadata": {},
   "outputs": [],
   "source": [
    "def optimizeNC(X_train, X_test, y_train, y_test):\n",
    "    y_test_pred = []\n",
    "    for i in range(0,X_test.shape[0]) :\n",
    "        dmin = euclidean_distances(X_test.iloc[i].reshape(1,-1), X_train.iloc[0].reshape(1,-1))\n",
    "        cmin = y_train.iloc[0].values[0]\n",
    "        for j in range (1,6):\n",
    "            d = euclidean_distances(X_test.iloc[i].reshape(1,-1), X_train.iloc[j].reshape(1,-1))\n",
    "            #print(d)\n",
    "            if d<dmin :\n",
    "                dmin = d\n",
    "                cmin = y_train.iloc[j].values[0]\n",
    "        #print(cmin)\n",
    "        #print(y_test.iloc[i].values[0])\n",
    "        y_test_pred.append(cmin)\n",
    "    return y_test_pred"
   ]
  },
  {
   "cell_type": "markdown",
   "metadata": {},
   "source": [
    "## Cycle Work"
   ]
  },
  {
   "cell_type": "code",
   "execution_count": 103,
   "metadata": {
    "collapsed": true
   },
   "outputs": [],
   "source": [
    "def cycleWork(X_train, X_test, y_train, y_test,optimize,cv):\n",
    "    traintime = 0\n",
    "    print(\"Mean Fit Time\", traintime)\n",
    "    print(\"Mean Score Time\", 0)\n",
    "\n",
    "    #print(gridsearch.best_params_)\n",
    "    estimator = None\n",
    "    params = None\n",
    "    print(params)\n",
    "    #y_train_pred = estimator.predict(X_train)\n",
    "    trnscore = 0\n",
    "    start = time.time()\n",
    "    y_tst_pred = optimize(X_train, X_test, y_train, y_test)\n",
    "    end = time.time()\n",
    "    #print(y_tst_pred)\n",
    "    diff = end-start\n",
    "    clfperms = X_train.shape[0]/((diff*1000)+0.000000001)\n",
    "    tstscore = accuracy_score(y_test, y_tst_pred)\n",
    "    cm = confusion_matrix(y_test, y_tst_pred)\n",
    "    true_pos = np.diag(cm) \n",
    "    precision = np.sum(true_pos / np.sum(cm, axis=0))\n",
    "    recall = np.sum(true_pos / np.sum(cm, axis=1))\n",
    "    f1 = 2 * ((precision* recall)/(precision + recall))\n",
    "    #f1None = f1_score(y_test, y_tst_pred, average=None)\n",
    "    #f1micro = f1_score(y_test, y_tst_pred, average='micro')\n",
    "    return [trnscore, tstscore, f1,traintime,clfperms,cm,params,estimator]"
   ]
  },
  {
   "cell_type": "code",
   "execution_count": 104,
   "metadata": {},
   "outputs": [],
   "source": [
    "def AllWork(types,subtype,sizeDict, out=False,cross_validation=5):    \n",
    "    data = []\n",
    "    for datasize in sizeDict:\n",
    "        print(datasize)\n",
    "        classifiersDict = {\n",
    "                        \"NC\":optimizeNC,\n",
    "                          }\n",
    "        for clf in classifiersDict:\n",
    "            X_test,y_test,f = loader(types,subtype,datasize)\n",
    "            #X,y = LoadMinimizedData(types)\n",
    "            X_train,y_train = CreateTrain()\n",
    "            acc = cycleWork(X_train, X_test, y_train, y_test,classifiersDict[clf],cross_validation)\n",
    "            print(\"Train Accuracy \",acc[0],\", Test Accuracy\",acc[1], \"F1 \",acc[2])\n",
    "            data.append([clf,datasize.split('-')[-1],0,0,acc[0],acc[1],acc[2],acc[3],acc[4],acc[5],acc[6]])\n",
    "            print(\"########################################\")\n",
    "    numpyarray = np.array(data)\n",
    "    df = pd.DataFrame(numpyarray, columns = [\"Classifier\",\"Count\",\"Cycle\",\"Split\",\"Train Acc\", \"Test Acc\", \"F1 Score\",\"Train Time (ms)\",\"clfs per ms\",\"Confusion Matrix\",\"Params\"])\n",
    "    if(out):\n",
    "        df.to_csv(\"All-\"+types+'-'+subtype+'.csv',index = False)\n",
    "    df.head(10)"
   ]
  },
  {
   "cell_type": "code",
   "execution_count": 113,
   "metadata": {},
   "outputs": [
    {
     "name": "stdout",
     "output_type": "stream",
     "text": [
      "Full\n",
      "Mean Fit Time 0"
     ]
    },
    {
     "name": "stderr",
     "output_type": "stream",
     "text": [
      "C:\\Users\\eng_w\\Anaconda3\\lib\\site-packages\\ipykernel_launcher.py:4: FutureWarning: reshape is deprecated and will raise in a subsequent release. Please use .values.reshape(...) instead\n",
      "  after removing the cwd from sys.path.\n",
      "C:\\Users\\eng_w\\Anaconda3\\lib\\site-packages\\ipykernel_launcher.py:7: FutureWarning: reshape is deprecated and will raise in a subsequent release. Please use .values.reshape(...) instead\n",
      "  import sys\n"
     ]
    },
    {
     "name": "stdout",
     "output_type": "stream",
     "text": [
      "\n",
      "Mean Score Time 0\n",
      "None\n",
      "Train Accuracy  0 , Test Accuracy 0.14439655172413793 F1  nan\n",
      "########################################\n"
     ]
    },
    {
     "name": "stderr",
     "output_type": "stream",
     "text": [
      "C:\\Users\\eng_w\\Anaconda3\\lib\\site-packages\\ipykernel_launcher.py:21: RuntimeWarning: invalid value encountered in true_divide\n"
     ]
    }
   ],
   "source": [
    "types = \"NoBG\"\n",
    "cycles = 1\n",
    "subtype = \"Roof\"\n",
    "sizeDict = {\n",
    "                \"Full\":None,\n",
    "                #\"Min-10\":10,\n",
    "                #\"Min-20\":20,\n",
    "                #\"Min-30\":30,\n",
    "                #\"Min-40\":40\n",
    "                }\n",
    "AllWork(types,subtype,sizeDict, out=True,cross_validation=5)"
   ]
  },
  {
   "cell_type": "code",
   "execution_count": null,
   "metadata": {},
   "outputs": [],
   "source": []
  },
  {
   "cell_type": "code",
   "execution_count": null,
   "metadata": {},
   "outputs": [],
   "source": []
  },
  {
   "cell_type": "code",
   "execution_count": null,
   "metadata": {
    "collapsed": true
   },
   "outputs": [],
   "source": []
  }
 ],
 "metadata": {
  "kernelspec": {
   "display_name": "Python 3",
   "language": "python",
   "name": "python3"
  },
  "language_info": {
   "codemirror_mode": {
    "name": "ipython",
    "version": 3
   },
   "file_extension": ".py",
   "mimetype": "text/x-python",
   "name": "python",
   "nbconvert_exporter": "python",
   "pygments_lexer": "ipython3",
   "version": "3.6.3"
  }
 },
 "nbformat": 4,
 "nbformat_minor": 2
}
