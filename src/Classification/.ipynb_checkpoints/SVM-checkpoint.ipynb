{
 "cells": [
  {
   "cell_type": "markdown",
   "metadata": {},
   "source": [
    "# Prediction Using SVM"
   ]
  },
  {
   "cell_type": "markdown",
   "metadata": {},
   "source": [
    "<p style=\"font-family: Arial; font-size:1.75em;color:purple; font-style:bold\"><br>\n",
    "\n",
    "Importing the Necessary Libraries<br></p>"
   ]
  },
  {
   "cell_type": "code",
   "execution_count": 129,
   "metadata": {
    "collapsed": true
   },
   "outputs": [],
   "source": [
    "import pandas as pd\n",
    "from sklearn.metrics import accuracy_score\n",
    "from sklearn.model_selection import train_test_split\n",
    "from sklearn.svm import SVC\n",
    "from sklearn.model_selection import GridSearchCV\n",
    "from sklearn.pipeline import Pipeline\n",
    "from sklearn.preprocessing import StandardScaler"
   ]
  },
  {
   "cell_type": "markdown",
   "metadata": {},
   "source": [
    "## Plot Includes"
   ]
  },
  {
   "cell_type": "code",
   "execution_count": 130,
   "metadata": {
    "collapsed": true
   },
   "outputs": [],
   "source": [
    "%matplotlib inline\n",
    "import matplotlib\n",
    "import matplotlib.pyplot as plt\n",
    "plt.rcParams['axes.labelsize'] = 14\n",
    "plt.rcParams['xtick.labelsize'] = 12\n",
    "plt.rcParams['ytick.labelsize'] = 12"
   ]
  },
  {
   "cell_type": "markdown",
   "metadata": {},
   "source": [
    "<p style=\"font-family: Arial; font-size:1.75em;color:purple; font-style:bold\"><br>\n",
    "\n",
    "Creating a Pandas DataFrame from a CSV file<br></p>"
   ]
  },
  {
   "cell_type": "code",
   "execution_count": 131,
   "metadata": {
    "collapsed": true
   },
   "outputs": [],
   "source": [
    "def CreateDataFrame(level):\n",
    "    data = pd.read_csv('../Extraction/'+level+'.csv')\n",
    "    data[\"Class\"] = level\n",
    "    return data"
   ]
  },
  {
   "cell_type": "code",
   "execution_count": 132,
   "metadata": {
    "collapsed": true
   },
   "outputs": [],
   "source": [
    "# , , -> this leads to a problem"
   ]
  },
  {
   "cell_type": "code",
   "execution_count": 133,
   "metadata": {
    "collapsed": true
   },
   "outputs": [],
   "source": [
    "frames = [CreateDataFrame(\"Clean\"),CreateDataFrame(\"Mid\"), CreateDataFrame(\"Dirty\")]"
   ]
  },
  {
   "cell_type": "code",
   "execution_count": 134,
   "metadata": {
    "collapsed": true
   },
   "outputs": [],
   "source": [
    "df = pd.concat(frames)"
   ]
  },
  {
   "cell_type": "code",
   "execution_count": 135,
   "metadata": {},
   "outputs": [
    {
     "data": {
      "text/html": [
       "<div>\n",
       "<style>\n",
       "    .dataframe thead tr:only-child th {\n",
       "        text-align: right;\n",
       "    }\n",
       "\n",
       "    .dataframe thead th {\n",
       "        text-align: left;\n",
       "    }\n",
       "\n",
       "    .dataframe tbody tr th {\n",
       "        vertical-align: top;\n",
       "    }\n",
       "</style>\n",
       "<table border=\"1\" class=\"dataframe\">\n",
       "  <thead>\n",
       "    <tr style=\"text-align: right;\">\n",
       "      <th></th>\n",
       "      <th>Amean</th>\n",
       "      <th>Avar</th>\n",
       "      <th>Rmean</th>\n",
       "      <th>Rvar</th>\n",
       "      <th>Gmean</th>\n",
       "      <th>Gvar</th>\n",
       "      <th>Bmean</th>\n",
       "      <th>Bvar</th>\n",
       "      <th>Kmean</th>\n",
       "      <th>Kvar</th>\n",
       "      <th>...</th>\n",
       "      <th>Energy2PI/2</th>\n",
       "      <th>Correlation10</th>\n",
       "      <th>Correlation1PI/2</th>\n",
       "      <th>Correlation20</th>\n",
       "      <th>Correlation2PI/2</th>\n",
       "      <th>Entropy10</th>\n",
       "      <th>Entropy1PI/2</th>\n",
       "      <th>Entropy20</th>\n",
       "      <th>Entropy2PI/2</th>\n",
       "      <th>Class</th>\n",
       "    </tr>\n",
       "  </thead>\n",
       "  <tbody>\n",
       "    <tr>\n",
       "      <th>0</th>\n",
       "      <td>50.573635</td>\n",
       "      <td>49.781123</td>\n",
       "      <td>205.720922</td>\n",
       "      <td>18.031664</td>\n",
       "      <td>204.191135</td>\n",
       "      <td>17.401924</td>\n",
       "      <td>202.929433</td>\n",
       "      <td>19.861747</td>\n",
       "      <td>204.191135</td>\n",
       "      <td>17.401924</td>\n",
       "      <td>...</td>\n",
       "      <td>0.075577</td>\n",
       "      <td>0.664367</td>\n",
       "      <td>0.948864</td>\n",
       "      <td>0.316433</td>\n",
       "      <td>0.861053</td>\n",
       "      <td>10.371369</td>\n",
       "      <td>8.829561</td>\n",
       "      <td>10.670889</td>\n",
       "      <td>9.400339</td>\n",
       "      <td>Clean</td>\n",
       "    </tr>\n",
       "    <tr>\n",
       "      <th>1</th>\n",
       "      <td>65.778369</td>\n",
       "      <td>42.257621</td>\n",
       "      <td>191.647754</td>\n",
       "      <td>11.534563</td>\n",
       "      <td>141.595745</td>\n",
       "      <td>33.921334</td>\n",
       "      <td>76.978723</td>\n",
       "      <td>57.519650</td>\n",
       "      <td>141.595745</td>\n",
       "      <td>33.921334</td>\n",
       "      <td>...</td>\n",
       "      <td>0.221865</td>\n",
       "      <td>0.503869</td>\n",
       "      <td>0.853785</td>\n",
       "      <td>0.310146</td>\n",
       "      <td>0.762598</td>\n",
       "      <td>8.959226</td>\n",
       "      <td>7.224208</td>\n",
       "      <td>9.288606</td>\n",
       "      <td>7.569433</td>\n",
       "      <td>Clean</td>\n",
       "    </tr>\n",
       "    <tr>\n",
       "      <th>2</th>\n",
       "      <td>70.885938</td>\n",
       "      <td>65.820891</td>\n",
       "      <td>195.825926</td>\n",
       "      <td>18.877119</td>\n",
       "      <td>181.811111</td>\n",
       "      <td>12.014092</td>\n",
       "      <td>184.604630</td>\n",
       "      <td>14.249047</td>\n",
       "      <td>181.811111</td>\n",
       "      <td>12.014092</td>\n",
       "      <td>...</td>\n",
       "      <td>0.026886</td>\n",
       "      <td>0.938561</td>\n",
       "      <td>0.801201</td>\n",
       "      <td>0.857454</td>\n",
       "      <td>0.662762</td>\n",
       "      <td>10.995019</td>\n",
       "      <td>12.181251</td>\n",
       "      <td>11.525445</td>\n",
       "      <td>12.465596</td>\n",
       "      <td>Clean</td>\n",
       "    </tr>\n",
       "    <tr>\n",
       "      <th>3</th>\n",
       "      <td>41.625266</td>\n",
       "      <td>36.152845</td>\n",
       "      <td>195.561941</td>\n",
       "      <td>8.007878</td>\n",
       "      <td>195.960409</td>\n",
       "      <td>7.617934</td>\n",
       "      <td>179.436782</td>\n",
       "      <td>21.725227</td>\n",
       "      <td>195.960409</td>\n",
       "      <td>7.617934</td>\n",
       "      <td>...</td>\n",
       "      <td>0.086336</td>\n",
       "      <td>0.634181</td>\n",
       "      <td>0.867622</td>\n",
       "      <td>0.402286</td>\n",
       "      <td>0.734380</td>\n",
       "      <td>9.809872</td>\n",
       "      <td>8.646236</td>\n",
       "      <td>10.099557</td>\n",
       "      <td>9.141868</td>\n",
       "      <td>Clean</td>\n",
       "    </tr>\n",
       "    <tr>\n",
       "      <th>4</th>\n",
       "      <td>113.514486</td>\n",
       "      <td>93.969653</td>\n",
       "      <td>227.507500</td>\n",
       "      <td>10.228808</td>\n",
       "      <td>186.696071</td>\n",
       "      <td>39.527108</td>\n",
       "      <td>199.490000</td>\n",
       "      <td>32.156569</td>\n",
       "      <td>186.696071</td>\n",
       "      <td>39.527108</td>\n",
       "      <td>...</td>\n",
       "      <td>0.407329</td>\n",
       "      <td>0.810134</td>\n",
       "      <td>0.932458</td>\n",
       "      <td>0.584563</td>\n",
       "      <td>0.848196</td>\n",
       "      <td>6.670346</td>\n",
       "      <td>5.830715</td>\n",
       "      <td>7.025579</td>\n",
       "      <td>5.987485</td>\n",
       "      <td>Clean</td>\n",
       "    </tr>\n",
       "  </tbody>\n",
       "</table>\n",
       "<p>5 rows × 38 columns</p>\n",
       "</div>"
      ],
      "text/plain": [
       "        Amean       Avar       Rmean       Rvar       Gmean       Gvar  \\\n",
       "0   50.573635  49.781123  205.720922  18.031664  204.191135  17.401924   \n",
       "1   65.778369  42.257621  191.647754  11.534563  141.595745  33.921334   \n",
       "2   70.885938  65.820891  195.825926  18.877119  181.811111  12.014092   \n",
       "3   41.625266  36.152845  195.561941   8.007878  195.960409   7.617934   \n",
       "4  113.514486  93.969653  227.507500  10.228808  186.696071  39.527108   \n",
       "\n",
       "        Bmean       Bvar       Kmean       Kvar  ...    Energy2PI/2  \\\n",
       "0  202.929433  19.861747  204.191135  17.401924  ...       0.075577   \n",
       "1   76.978723  57.519650  141.595745  33.921334  ...       0.221865   \n",
       "2  184.604630  14.249047  181.811111  12.014092  ...       0.026886   \n",
       "3  179.436782  21.725227  195.960409   7.617934  ...       0.086336   \n",
       "4  199.490000  32.156569  186.696071  39.527108  ...       0.407329   \n",
       "\n",
       "   Correlation10  Correlation1PI/2  Correlation20  Correlation2PI/2  \\\n",
       "0       0.664367          0.948864       0.316433          0.861053   \n",
       "1       0.503869          0.853785       0.310146          0.762598   \n",
       "2       0.938561          0.801201       0.857454          0.662762   \n",
       "3       0.634181          0.867622       0.402286          0.734380   \n",
       "4       0.810134          0.932458       0.584563          0.848196   \n",
       "\n",
       "   Entropy10  Entropy1PI/2  Entropy20  Entropy2PI/2  Class  \n",
       "0  10.371369      8.829561  10.670889      9.400339  Clean  \n",
       "1   8.959226      7.224208   9.288606      7.569433  Clean  \n",
       "2  10.995019     12.181251  11.525445     12.465596  Clean  \n",
       "3   9.809872      8.646236  10.099557      9.141868  Clean  \n",
       "4   6.670346      5.830715   7.025579      5.987485  Clean  \n",
       "\n",
       "[5 rows x 38 columns]"
      ]
     },
     "execution_count": 135,
     "metadata": {},
     "output_type": "execute_result"
    }
   ],
   "source": [
    "df.head()"
   ]
  },
  {
   "cell_type": "code",
   "execution_count": 136,
   "metadata": {
    "collapsed": true
   },
   "outputs": [],
   "source": [
    "y=df[['Class']].copy()"
   ]
  },
  {
   "cell_type": "code",
   "execution_count": 137,
   "metadata": {
    "collapsed": true
   },
   "outputs": [],
   "source": [
    "X = df.copy()"
   ]
  },
  {
   "cell_type": "code",
   "execution_count": 138,
   "metadata": {
    "collapsed": true
   },
   "outputs": [],
   "source": [
    "del X['Class']"
   ]
  },
  {
   "cell_type": "code",
   "execution_count": 139,
   "metadata": {
    "collapsed": true
   },
   "outputs": [],
   "source": [
    "#X.dtypes"
   ]
  },
  {
   "cell_type": "code",
   "execution_count": 140,
   "metadata": {
    "collapsed": true
   },
   "outputs": [],
   "source": [
    "X_train, X_test, y_train, y_test = train_test_split(X, y, test_size=0.2,random_state=42)"
   ]
  },
  {
   "cell_type": "code",
   "execution_count": 141,
   "metadata": {
    "collapsed": true
   },
   "outputs": [],
   "source": [
    "def GetTrainTestScore(classifier, Xtr, Xtst, ytr, ytst):\n",
    "    trainpredictions = cross_val_predict(classifier, Xtr, ytr.values.ravel(), cv=5)\n",
    "    tracc = accuracy_score(y_true = ytr, y_pred = trainpredictions)\n",
    "    confusionMatrix = confusion_matrix(ytr, trainpredictions)\n",
    "    classifier.fit(Xtr, ytr.values.ravel())\n",
    "    testpredictions = classifier.predict(Xtst)\n",
    "    tstacc = accuracy_score(y_true = ytst, y_pred = testpredictions)\n",
    "    return [tracc,tstacc,confusionMatrix]"
   ]
  },
  {
   "cell_type": "markdown",
   "metadata": {},
   "source": [
    "# Classification using Support Vector Machine"
   ]
  },
  {
   "cell_type": "code",
   "execution_count": 142,
   "metadata": {},
   "outputs": [
    {
     "name": "stdout",
     "output_type": "stream",
     "text": [
      "Train Accuracy  0.410714285714 , Test Accuracy 0.413793103448\n"
     ]
    }
   ],
   "source": [
    "svm_clf = SVC(random_state=42)\n",
    "acc = GetTrainTestScore(svm_clf,X_train, X_test, y_train, y_test)\n",
    "print(\"Train Accuracy \",acc[0],\", Test Accuracy\",acc[1])"
   ]
  },
  {
   "cell_type": "markdown",
   "metadata": {},
   "source": [
    "# Optimize Classfiers"
   ]
  },
  {
   "cell_type": "code",
   "execution_count": 143,
   "metadata": {},
   "outputs": [
    {
     "name": "stdout",
     "output_type": "stream",
     "text": [
      "Fitting 5 folds for each of 75 candidates, totalling 375 fits\n"
     ]
    },
    {
     "name": "stderr",
     "output_type": "stream",
     "text": [
      "[Parallel(n_jobs=4)]: Done  24 tasks      | elapsed:    8.6s\n",
      "[Parallel(n_jobs=4)]: Done 242 out of 375 | elapsed:    9.2s remaining:    5.0s\n",
      "[Parallel(n_jobs=4)]: Done 375 out of 375 | elapsed:    9.5s finished\n"
     ]
    },
    {
     "data": {
      "text/plain": [
       "GridSearchCV(cv=5, error_score='raise',\n",
       "       estimator=Pipeline(memory=None,\n",
       "     steps=[('scale', StandardScaler(copy=True, with_mean=True, with_std=True)), ('svc', SVC(C=1.0, cache_size=200, class_weight=None, coef0=0.0,\n",
       "  decision_function_shape='ovr', degree=3, gamma='auto', kernel='rbf',\n",
       "  max_iter=-1, probability=False, random_state=None, shrinking=True,\n",
       "  tol=0.001, verbose=False))]),\n",
       "       fit_params=None, iid=True, n_jobs=4,\n",
       "       param_grid=[{'svc__kernel': ['poly'], 'svc__degree': [1, 2, 3, 4, 5], 'svc__coef0': [1, 5, 10], 'svc__C': [0.001, 0.01, 0.1, 1, 10]}],\n",
       "       pre_dispatch='2*n_jobs', refit=True, return_train_score=True,\n",
       "       scoring=None, verbose=3)"
      ]
     },
     "execution_count": 143,
     "metadata": {},
     "output_type": "execute_result"
    }
   ],
   "source": [
    "param_grid = [\n",
    "        {'svc__kernel': ['poly'],'svc__degree':[1,2,3,4,5],\n",
    "         'svc__coef0':[1,5,10],\n",
    "         'svc__C': [0.001,0.01,0.1,1,10]},\n",
    "        ]\n",
    "\n",
    "svcpipeline = Pipeline([\n",
    "    ('scale', StandardScaler()),\n",
    "    ('svc', SVC())\n",
    "])\n",
    "grid_search = GridSearchCV(svcpipeline, param_grid, cv=5, verbose=3, n_jobs=4)\n",
    "grid_search.fit(X_train, y_train.values.ravel())"
   ]
  },
  {
   "cell_type": "code",
   "execution_count": 144,
   "metadata": {},
   "outputs": [
    {
     "name": "stdout",
     "output_type": "stream",
     "text": [
      "Best Score:  0.901785714286 , Test Accuracy:  0.793103448276\n"
     ]
    }
   ],
   "source": [
    "y_pred = grid_search.predict(X_test)\n",
    "tstscore = accuracy_score(y_test, y_pred)\n",
    "print(\"Best Score: \",grid_search.best_score_,\", Test Accuracy: \",tstscore)"
   ]
  },
  {
   "cell_type": "code",
   "execution_count": 145,
   "metadata": {},
   "outputs": [
    {
     "name": "stdout",
     "output_type": "stream",
     "text": [
      "{'svc__C': 0.001, 'svc__coef0': 10, 'svc__degree': 4, 'svc__kernel': 'poly'}\n"
     ]
    }
   ],
   "source": [
    "print(grid_search.best_params_)"
   ]
  },
  {
   "cell_type": "markdown",
   "metadata": {
    "collapsed": true
   },
   "source": [
    "# Import Learning Curve Function From Chapter 4"
   ]
  },
  {
   "cell_type": "code",
   "execution_count": 146,
   "metadata": {},
   "outputs": [],
   "source": [
    "def plot_learning_curves(model, Xtr,ytr,Xtst,ytst):\n",
    "    train_errors, test_errors = [], []\n",
    "    best_params = []\n",
    "    for m in range(20, len(X_train),20):\n",
    "        model.fit(Xtr[:m], ytr[:m].values.ravel())\n",
    "        y_test_predict = model.predict(Xtst)\n",
    "        train_errors.append(model.best_score_)\n",
    "        test_errors.append(accuracy_score(ytst, y_test_predict))\n",
    "        best_params.append(model.best_params_)\n",
    "    plt.plot(train_errors, \"r-+\", linewidth=2, label=\"train\")\n",
    "    plt.plot(test_errors, \"b-\", linewidth=3, label=\"test\")\n",
    "    plt.legend(loc=\"upper right\", fontsize=14)   # not shown in the book\n",
    "    plt.xlabel(\"Training set size\", fontsize=14) # not shown\n",
    "    plt.ylabel(\"Accuracy Score\", fontsize=14)              # not shown\n",
    "    return train_errors,test_errors,best_params"
   ]
  },
  {
   "cell_type": "code",
   "execution_count": 147,
   "metadata": {},
   "outputs": [
    {
     "name": "stdout",
     "output_type": "stream",
     "text": [
      "Fitting 5 folds for each of 45 candidates, totalling 225 fits\n"
     ]
    },
    {
     "name": "stderr",
     "output_type": "stream",
     "text": [
      "C:\\Users\\eng_w\\Anaconda3\\lib\\site-packages\\sklearn\\model_selection\\_split.py:597: Warning: The least populated class in y has only 4 members, which is too few. The minimum number of members in any class cannot be less than n_splits=5.\n",
      "  % (min_groups, self.n_splits)), Warning)\n",
      "[Parallel(n_jobs=4)]: Done  24 tasks      | elapsed:    7.2s\n",
      "[Parallel(n_jobs=4)]: Done 225 out of 225 | elapsed:    7.7s finished\n"
     ]
    },
    {
     "name": "stdout",
     "output_type": "stream",
     "text": [
      "Fitting 5 folds for each of 45 candidates, totalling 225 fits\n"
     ]
    },
    {
     "name": "stderr",
     "output_type": "stream",
     "text": [
      "[Parallel(n_jobs=4)]: Done  24 tasks      | elapsed:    8.0s\n",
      "[Parallel(n_jobs=4)]: Done 225 out of 225 | elapsed:    8.5s finished\n"
     ]
    },
    {
     "name": "stdout",
     "output_type": "stream",
     "text": [
      "Fitting 5 folds for each of 45 candidates, totalling 225 fits\n"
     ]
    },
    {
     "name": "stderr",
     "output_type": "stream",
     "text": [
      "[Parallel(n_jobs=4)]: Done  24 tasks      | elapsed:    5.7s\n",
      "[Parallel(n_jobs=4)]: Done 225 out of 225 | elapsed:    6.2s finished\n"
     ]
    },
    {
     "name": "stdout",
     "output_type": "stream",
     "text": [
      "Fitting 5 folds for each of 45 candidates, totalling 225 fits\n"
     ]
    },
    {
     "name": "stderr",
     "output_type": "stream",
     "text": [
      "[Parallel(n_jobs=4)]: Done  24 tasks      | elapsed:    5.4s\n",
      "[Parallel(n_jobs=4)]: Done 225 out of 225 | elapsed:    5.9s finished\n"
     ]
    },
    {
     "name": "stdout",
     "output_type": "stream",
     "text": [
      "Fitting 5 folds for each of 45 candidates, totalling 225 fits\n"
     ]
    },
    {
     "name": "stderr",
     "output_type": "stream",
     "text": [
      "[Parallel(n_jobs=4)]: Done  24 tasks      | elapsed:    7.4s\n",
      "[Parallel(n_jobs=4)]: Done 225 out of 225 | elapsed:    8.1s finished\n"
     ]
    },
    {
     "data": {
      "image/png": "[encoded data removed]",
      "text/plain": [
       "<matplotlib.figure.Figure at 0x1ea193cb6d8>"
      ]
     },
     "metadata": {},
     "output_type": "display_data"
    }
   ],
   "source": [
    "param_grid = [\n",
    "        {'svc__kernel': ['poly'],'svc__degree':[2,3,4],\n",
    "         'svc__coef0':[1,5,10],\n",
    "         'svc__C': [0.001,0.01,0.1,1,10]},\n",
    "        ]\n",
    "\n",
    "svcpipeline = Pipeline([\n",
    "    ('scale', StandardScaler()),\n",
    "    ('svc', SVC())\n",
    "])\n",
    "grid_search = GridSearchCV(svcpipeline, param_grid, cv=5, verbose=3, n_jobs=4)\n",
    "\n",
    "best_params = plot_learning_curves(grid_search, X_train, y_train,X_test,y_test)\n",
    "plt.axis([0, 5, 0, 1.1])                         # not shown in the book\n",
    "plt.show() "
   ]
  },
  {
   "cell_type": "code",
   "execution_count": 148,
   "metadata": {},
   "outputs": [
    {
     "data": {
      "text/plain": [
       "[{'svc__C': 1, 'svc__coef0': 1, 'svc__degree': 3, 'svc__kernel': 'poly'},\n",
       " {'svc__C': 0.001, 'svc__coef0': 10, 'svc__degree': 4, 'svc__kernel': 'poly'},\n",
       " {'svc__C': 0.01, 'svc__coef0': 10, 'svc__degree': 4, 'svc__kernel': 'poly'},\n",
       " {'svc__C': 0.001, 'svc__coef0': 10, 'svc__degree': 4, 'svc__kernel': 'poly'},\n",
       " {'svc__C': 10, 'svc__coef0': 5, 'svc__degree': 2, 'svc__kernel': 'poly'}]"
      ]
     },
     "execution_count": 148,
     "metadata": {},
     "output_type": "execute_result"
    }
   ],
   "source": [
    "best_params"
   ]
  }
 ],
 "metadata": {
  "kernelspec": {
   "display_name": "Python 3",
   "language": "python",
   "name": "python3"
  },
  "language_info": {
   "codemirror_mode": {
    "name": "ipython",
    "version": 3
   },
   "file_extension": ".py",
   "mimetype": "text/x-python",
   "name": "python",
   "nbconvert_exporter": "python",
   "pygments_lexer": "ipython3",
   "version": "3.6.1"
  }
 },
 "nbformat": 4,
 "nbformat_minor": 2
}
