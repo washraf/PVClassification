{
 "cells": [
  {
   "cell_type": "markdown",
   "metadata": {},
   "source": [
    "# Prediction Using SVM"
   ]
  },
  {
   "cell_type": "markdown",
   "metadata": {},
   "source": [
    "<p style=\"font-family: Arial; font-size:1.75em;color:purple; font-style:bold\"><br>\n",
    "\n",
    "Importing the Necessary Libraries<br></p>"
   ]
  },
  {
   "cell_type": "code",
   "execution_count": 28,
   "metadata": {
    "collapsed": true
   },
   "outputs": [],
   "source": [
    "import pandas as pd\n",
    "import numpy as np\n",
    "from sklearn.metrics import accuracy_score\n",
    "from sklearn.model_selection import train_test_split\n",
    "from sklearn.svm import SVC\n",
    "from sklearn.model_selection import GridSearchCV\n",
    "from sklearn.pipeline import Pipeline\n",
    "from sklearn.preprocessing import StandardScaler\n",
    "from sklearn.model_selection import cross_val_predict\n",
    "from sklearn.metrics import confusion_matrix\n",
    "from sklearn.metrics import f1_score"
   ]
  },
  {
   "cell_type": "markdown",
   "metadata": {},
   "source": [
    "## Plot Includes"
   ]
  },
  {
   "cell_type": "code",
   "execution_count": 2,
   "metadata": {
    "collapsed": true
   },
   "outputs": [],
   "source": [
    "%matplotlib inline\n",
    "import matplotlib\n",
    "import matplotlib.pyplot as plt\n",
    "plt.rcParams['axes.labelsize'] = 14\n",
    "plt.rcParams['xtick.labelsize'] = 12\n",
    "plt.rcParams['ytick.labelsize'] = 12"
   ]
  },
  {
   "cell_type": "markdown",
   "metadata": {},
   "source": [
    "<p style=\"font-family: Arial; font-size:1.75em;color:purple; font-style:bold\"><br>\n",
    "\n",
    "Creating a Pandas DataFrame from a CSV file<br></p>"
   ]
  },
  {
   "cell_type": "code",
   "execution_count": 39,
   "metadata": {
    "collapsed": true
   },
   "outputs": [],
   "source": [
    "def CreateDataFrame(types, level):\n",
    "    data = pd.read_csv('../Extraction/'+types+\"/\"+level+'.csv')\n",
    "    data[\"Class\"] = level\n",
    "    return data"
   ]
  },
  {
   "cell_type": "code",
   "execution_count": 40,
   "metadata": {
    "collapsed": true
   },
   "outputs": [],
   "source": [
    "def LoadData(types):\n",
    "    frames = [CreateDataFrame(types,\"Clean\"), \n",
    "          CreateDataFrame(types,\"Dirty (0-20)\"), \n",
    "          CreateDataFrame(types,\"Dirty (20-40)\"), \n",
    "          CreateDataFrame(types,\"Dirty (40-60)\"),\n",
    "          CreateDataFrame(types,\"Dirty (60-80)\"),\n",
    "          CreateDataFrame(types,\"Dirty (80-100)\")]\n",
    "    df = pd.concat(frames)\n",
    "    y=df[['Class']].copy()\n",
    "    X = df.copy()\n",
    "    del X['Class']\n",
    "    return X,y"
   ]
  },
  {
   "cell_type": "markdown",
   "metadata": {},
   "source": [
    "# Classification using Support Vector Machine"
   ]
  },
  {
   "cell_type": "markdown",
   "metadata": {},
   "source": [
    "## Optimize Classfiers"
   ]
  },
  {
   "cell_type": "code",
   "execution_count": 55,
   "metadata": {},
   "outputs": [],
   "source": [
    "def optimize(X_train, y_train):\n",
    "    param_grid = [\n",
    "            {'svc__kernel': ['poly'],'svc__degree':[1,2,3,4,5],'svc__coef0':[1,5,10,15,20,30]},\n",
    "            {'svc__kernel': ['rbf'],'svc__gamma': [0.01, 0.03, 0.1, 0.3, 1.0, 3.0]},\n",
    "            {'svc__kernel': ['sigmoid'],'svc__coef0':[1,5,10,15,20,30]}\n",
    "            ]\n",
    "\n",
    "    svcpipeline = Pipeline([\n",
    "        ('scale', StandardScaler()),\n",
    "        ('svc', SVC())\n",
    "    ])\n",
    "    grid_search = GridSearchCV(svcpipeline, param_grid, cv=5, verbose=3, n_jobs=-1)\n",
    "    grid_search.fit(X_train, y_train.values.ravel())\n",
    "    return grid_search"
   ]
  },
  {
   "cell_type": "markdown",
   "metadata": {},
   "source": [
    "## Cycle Work"
   ]
  },
  {
   "cell_type": "code",
   "execution_count": 56,
   "metadata": {
    "collapsed": true
   },
   "outputs": [],
   "source": [
    "def cycleWork(X,y):\n",
    "    X_train, X_test, y_train, y_test = train_test_split(X, y, test_size=0.2)\n",
    "    gridsearch = optimize(X_train, y_train)\n",
    "    print(gridsearch.best_params_)\n",
    "    estimator = gridsearch.best_estimator_\n",
    "    \n",
    "    y_train_pred = estimator.predict(X_train)\n",
    "    trnscore = accuracy_score(y_train, y_train_pred)\n",
    "    \n",
    "    y_tst_pred = estimator.predict(X_test)\n",
    "    tstscore = accuracy_score(y_test, y_tst_pred)\n",
    "    cm = confusion_matrix(y_test, y_tst_pred)\n",
    "    true_pos = np.diag(cm) \n",
    "    precision = np.sum(true_pos / np.sum(cm, axis=0))\n",
    "    recall = np.sum(true_pos / np.sum(cm, axis=1))\n",
    "    f1 = 2 * ((precision* recall)/(precision + recall))\n",
    "    #f1None = f1_score(y_test, y_tst_pred, average=None)\n",
    "    #f1micro = f1_score(y_test, y_tst_pred, average='micro')\n",
    "    return [trnscore, tstscore, f1]"
   ]
  },
  {
   "cell_type": "code",
   "execution_count": 57,
   "metadata": {},
   "outputs": [],
   "source": [
    "def AllWork(types,cycles = 5):\n",
    "    data = []\n",
    "    X,y = LoadData(types)\n",
    "    for i in range(0,cycles):\n",
    "        print(i)\n",
    "        acc = cycleWork(X,y)\n",
    "        print(\"Train Accuracy \",acc[0],\", Test Accuracy\",acc[1], \"F1 \",acc[2])\n",
    "        data.append([acc[0],acc[1],acc[2]])\n",
    "        numpyarray = np.array(data)\n",
    "        df = pd.DataFrame(numpyarray, columns = [\"Train Acc\", \"Test Acc\", \"F1 Score\"])\n",
    "        df.to_csv(\"SVC-\"+types+'.csv',index = False)"
   ]
  },
  {
   "cell_type": "code",
   "execution_count": 59,
   "metadata": {},
   "outputs": [
    {
     "name": "stdout",
     "output_type": "stream",
     "text": [
      "0\n",
      "Fitting 5 folds for each of 42 candidates, totalling 210 fits\n"
     ]
    },
    {
     "name": "stderr",
     "output_type": "stream",
     "text": [
      "[Parallel(n_jobs=-1)]: Done  24 tasks      | elapsed:    8.0s\n",
      "[Parallel(n_jobs=-1)]: Done 120 tasks      | elapsed:   23.4s\n",
      "[Parallel(n_jobs=-1)]: Done 210 out of 210 | elapsed:   53.8s finished\n"
     ]
    },
    {
     "name": "stdout",
     "output_type": "stream",
     "text": [
      "{'svc__coef0': 15, 'svc__degree': 4, 'svc__kernel': 'poly'}\n",
      "Train Accuracy  1.0 , Test Accuracy 0.985637342908 F1  5.92172016755\n",
      "1\n",
      "Fitting 5 folds for each of 42 candidates, totalling 210 fits\n"
     ]
    },
    {
     "name": "stderr",
     "output_type": "stream",
     "text": [
      "[Parallel(n_jobs=-1)]: Done  24 tasks      | elapsed:   14.1s\n",
      "[Parallel(n_jobs=-1)]: Done 120 tasks      | elapsed:   26.0s\n",
      "[Parallel(n_jobs=-1)]: Done 210 out of 210 | elapsed:   53.4s finished\n"
     ]
    },
    {
     "name": "stdout",
     "output_type": "stream",
     "text": [
      "{'svc__coef0': 5, 'svc__degree': 4, 'svc__kernel': 'poly'}\n",
      "Train Accuracy  0.998652896273 , Test Accuracy 0.989228007181 F1  5.92971121534\n",
      "2\n",
      "Fitting 5 folds for each of 42 candidates, totalling 210 fits\n"
     ]
    },
    {
     "name": "stderr",
     "output_type": "stream",
     "text": [
      "[Parallel(n_jobs=-1)]: Done  24 tasks      | elapsed:   11.5s\n",
      "[Parallel(n_jobs=-1)]: Done 120 tasks      | elapsed:   23.2s\n",
      "[Parallel(n_jobs=-1)]: Done 210 out of 210 | elapsed:   47.3s finished\n"
     ]
    },
    {
     "name": "stdout",
     "output_type": "stream",
     "text": [
      "{'svc__coef0': 30, 'svc__degree': 4, 'svc__kernel': 'poly'}\n",
      "Train Accuracy  1.0 , Test Accuracy 0.980251346499 F1  5.8878877666\n",
      "3\n",
      "Fitting 5 folds for each of 42 candidates, totalling 210 fits\n"
     ]
    },
    {
     "name": "stderr",
     "output_type": "stream",
     "text": [
      "[Parallel(n_jobs=-1)]: Done  24 tasks      | elapsed:   14.4s\n",
      "[Parallel(n_jobs=-1)]: Done 120 tasks      | elapsed:   30.0s\n",
      "[Parallel(n_jobs=-1)]: Done 210 out of 210 | elapsed:   56.6s finished\n"
     ]
    },
    {
     "name": "stdout",
     "output_type": "stream",
     "text": [
      "{'svc__coef0': 5, 'svc__degree': 5, 'svc__kernel': 'poly'}\n",
      "Train Accuracy  1.0 , Test Accuracy 0.992818671454 F1  5.96282068871\n",
      "4\n",
      "Fitting 5 folds for each of 42 candidates, totalling 210 fits\n"
     ]
    },
    {
     "name": "stderr",
     "output_type": "stream",
     "text": [
      "[Parallel(n_jobs=-1)]: Done  24 tasks      | elapsed:   12.1s\n",
      "[Parallel(n_jobs=-1)]: Done 120 tasks      | elapsed:   22.5s\n",
      "[Parallel(n_jobs=-1)]: Done 210 out of 210 | elapsed:   45.0s finished\n"
     ]
    },
    {
     "name": "stdout",
     "output_type": "stream",
     "text": [
      "{'svc__coef0': 5, 'svc__degree': 4, 'svc__kernel': 'poly'}\n",
      "Train Accuracy  0.999550965424 , Test Accuracy 0.991023339318 F1  5.94523693602\n",
      "0\n",
      "Fitting 5 folds for each of 42 candidates, totalling 210 fits\n"
     ]
    },
    {
     "name": "stderr",
     "output_type": "stream",
     "text": [
      "[Parallel(n_jobs=-1)]: Done  24 tasks      | elapsed:    8.1s\n",
      "[Parallel(n_jobs=-1)]: Done 120 tasks      | elapsed:   19.0s\n",
      "[Parallel(n_jobs=-1)]: Done 210 out of 210 | elapsed:   42.7s finished\n"
     ]
    },
    {
     "name": "stdout",
     "output_type": "stream",
     "text": [
      "{'svc__coef0': 5, 'svc__degree': 5, 'svc__kernel': 'poly'}\n",
      "Train Accuracy  1.0 , Test Accuracy 0.982046678636 F1  5.89573575022\n",
      "1\n",
      "Fitting 5 folds for each of 42 candidates, totalling 210 fits\n"
     ]
    },
    {
     "name": "stderr",
     "output_type": "stream",
     "text": [
      "[Parallel(n_jobs=-1)]: Done  24 tasks      | elapsed:    9.5s\n",
      "[Parallel(n_jobs=-1)]: Done 120 tasks      | elapsed:   20.4s\n",
      "[Parallel(n_jobs=-1)]: Done 210 out of 210 | elapsed:   43.4s finished\n"
     ]
    },
    {
     "name": "stdout",
     "output_type": "stream",
     "text": [
      "{'svc__coef0': 15, 'svc__degree': 4, 'svc__kernel': 'poly'}\n",
      "Train Accuracy  1.0 , Test Accuracy 0.983842010772 F1  5.9009426887\n",
      "2\n",
      "Fitting 5 folds for each of 42 candidates, totalling 210 fits\n"
     ]
    },
    {
     "name": "stderr",
     "output_type": "stream",
     "text": [
      "[Parallel(n_jobs=-1)]: Done  24 tasks      | elapsed:   12.1s\n",
      "[Parallel(n_jobs=-1)]: Done 120 tasks      | elapsed:   23.3s\n",
      "[Parallel(n_jobs=-1)]: Done 210 out of 210 | elapsed:   46.6s finished\n"
     ]
    },
    {
     "name": "stdout",
     "output_type": "stream",
     "text": [
      "{'svc__coef0': 10, 'svc__degree': 5, 'svc__kernel': 'poly'}\n",
      "Train Accuracy  1.0 , Test Accuracy 0.97486535009 F1  5.84653364315\n",
      "3\n",
      "Fitting 5 folds for each of 42 candidates, totalling 210 fits\n"
     ]
    },
    {
     "name": "stderr",
     "output_type": "stream",
     "text": [
      "[Parallel(n_jobs=-1)]: Done  24 tasks      | elapsed:    9.6s\n",
      "[Parallel(n_jobs=-1)]: Done 120 tasks      | elapsed:   20.9s\n",
      "[Parallel(n_jobs=-1)]: Done 210 out of 210 | elapsed:   44.5s finished\n"
     ]
    },
    {
     "name": "stdout",
     "output_type": "stream",
     "text": [
      "{'svc__coef0': 10, 'svc__degree': 4, 'svc__kernel': 'poly'}\n",
      "Train Accuracy  1.0 , Test Accuracy 0.983842010772 F1  5.90113404484\n",
      "4\n",
      "Fitting 5 folds for each of 42 candidates, totalling 210 fits\n"
     ]
    },
    {
     "name": "stderr",
     "output_type": "stream",
     "text": [
      "[Parallel(n_jobs=-1)]: Done  24 tasks      | elapsed:   13.2s\n",
      "[Parallel(n_jobs=-1)]: Done 120 tasks      | elapsed:   24.8s\n",
      "[Parallel(n_jobs=-1)]: Done 210 out of 210 | elapsed:   48.1s finished\n"
     ]
    },
    {
     "name": "stdout",
     "output_type": "stream",
     "text": [
      "{'svc__coef0': 10, 'svc__degree': 4, 'svc__kernel': 'poly'}\n",
      "Train Accuracy  1.0 , Test Accuracy 0.989228007181 F1  5.94114680107\n"
     ]
    }
   ],
   "source": [
    "types = \"Solar Data\"\n",
    "AllWork(types,5)\n",
    "types = \"NoBG\"\n",
    "AllWork(types,5)"
   ]
  },
  {
   "cell_type": "code",
   "execution_count": null,
   "metadata": {
    "collapsed": true
   },
   "outputs": [],
   "source": []
  }
 ],
 "metadata": {
  "kernelspec": {
   "display_name": "Python 3",
   "language": "python",
   "name": "python3"
  },
  "language_info": {
   "codemirror_mode": {
    "name": "ipython",
    "version": 3
   },
   "file_extension": ".py",
   "mimetype": "text/x-python",
   "name": "python",
   "nbconvert_exporter": "python",
   "pygments_lexer": "ipython3",
   "version": "3.6.1"
  }
 },
 "nbformat": 4,
 "nbformat_minor": 2
}
