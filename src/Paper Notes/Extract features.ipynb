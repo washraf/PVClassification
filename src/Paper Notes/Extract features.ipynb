{
 "cells": [
  {
   "cell_type": "markdown",
   "metadata": {},
   "source": [
    "# Extract Feature Steps"
   ]
  },
  {
   "cell_type": "markdown",
   "metadata": {},
   "source": [
    "## Imports"
   ]
  },
  {
   "cell_type": "code",
   "execution_count": 1,
   "metadata": {
    "collapsed": true
   },
   "outputs": [],
   "source": [
    "import matplotlib.pyplot as plt\n",
    "import matplotlib.image as mpimg\n",
    "from PIL import Image\n",
    "import os, os.path\n",
    "import fnmatch\n",
    "import numpy as np\n",
    "from scipy import misc\n",
    "import pandas as pd\n",
    "from skimage import color\n",
    "from skimage import data\n",
    "from skimage import measure\n",
    "from skimage.filters import threshold_adaptive\n",
    "from skimage.filters import threshold_otsu\n",
    "from skimage.feature.texture import greycomatrix\n",
    "from skimage.feature.texture import greycoprops\n",
    "import skimage\n",
    "from scipy.stats import kurtosis\n",
    "from scipy.stats import skew\n",
    "#%pylab inline\n",
    "%matplotlib inline"
   ]
  },
  {
   "cell_type": "markdown",
   "metadata": {},
   "source": [
    "## Extract Statisitcal Features\n",
    "stattisitcal features are:\n",
    "* Mean\n",
    "* Variance\n",
    "* Skew\n",
    "* Kurtosis"
   ]
  },
  {
   "cell_type": "code",
   "execution_count": 2,
   "metadata": {
    "collapsed": true
   },
   "outputs": [],
   "source": [
    "def getStats(img, removeblack):\n",
    "    data = img.flatten()\n",
    "    if removeblack:\n",
    "        index = np.argwhere(data==0)\n",
    "        data = np.delete(data, index)\n",
    "    return [np.mean(data), np.var(data), skew(data), kurtosis(data)]"
   ]
  },
  {
   "cell_type": "markdown",
   "metadata": {},
   "source": [
    "## Convert Image to BitMap"
   ]
  },
  {
   "cell_type": "markdown",
   "metadata": {},
   "source": [
    "Source Code http://tonysyu.github.io/scikit-image/auto_examples/plot_otsu.html\n",
    "\n",
    "The threshould is picked by https://en.wikipedia.org/wiki/Otsu's_method\n",
    "\n",
    "The image is then converted to bit map"
   ]
  },
  {
   "cell_type": "code",
   "execution_count": 3,
   "metadata": {
    "collapsed": true
   },
   "outputs": [],
   "source": [
    "def toBitMap(gray):\n",
    "    thresh = threshold_otsu(gray)\n",
    "    bitmap = np.dot((gray > thresh).astype(float),1)\n",
    "    return bitmap"
   ]
  },
  {
   "cell_type": "markdown",
   "metadata": {},
   "source": [
    "Count ratio between black and white ratios"
   ]
  },
  {
   "cell_type": "code",
   "execution_count": 4,
   "metadata": {
    "collapsed": true
   },
   "outputs": [],
   "source": [
    "def getBlackandWhiteCount(bitmaparray):\n",
    "    total = len(bitmaparray.flatten())\n",
    "    white = np.count_nonzero(bitmaparray.flatten())\n",
    "    black = total-white\n",
    "    return [black/total, white/total]"
   ]
  },
  {
   "cell_type": "markdown",
   "metadata": {},
   "source": [
    "## GCLM Texture Features\n",
    "Get Value of Texture src:http://scikit-image.org/docs/0.7.0/api/skimage.feature.texture.html"
   ]
  },
  {
   "cell_type": "code",
   "execution_count": 5,
   "metadata": {
    "collapsed": true
   },
   "outputs": [],
   "source": [
    "def GetCoMatrix(gray):\n",
    "    newGray = (gray).astype(int)\n",
    "    coMatrix = greycomatrix(newGray, [1], [0,np.pi/4,np.pi/2,3*np.pi/4], levels=256, normed=True, symmetric=True)\n",
    "    return coMatrix"
   ]
  },
  {
   "cell_type": "code",
   "execution_count": null,
   "metadata": {
    "collapsed": true
   },
   "outputs": [],
   "source": []
  },
  {
   "cell_type": "code",
   "execution_count": 6,
   "metadata": {
    "collapsed": true
   },
   "outputs": [],
   "source": [
    "def GetTextureFeature(coMatrix,feature):\n",
    "    featurevalues = greycoprops(coMatrix, feature)\n",
    "    return featurevalues"
   ]
  },
  {
   "cell_type": "code",
   "execution_count": 7,
   "metadata": {
    "collapsed": true
   },
   "outputs": [],
   "source": [
    "def GetEntropy(coMatrix):\n",
    "    I,J,D,A = coMatrix.shape\n",
    "    shannon = np.zeros((D,A))\n",
    "    for d in range(0,D):\n",
    "        for a in range (0,A):\n",
    "            shannon[d,a] = skimage.measure.shannon_entropy(coMatrix[:,:,d,a])\n",
    "    return shannon"
   ]
  },
  {
   "cell_type": "markdown",
   "metadata": {},
   "source": [
    "# Load Data"
   ]
  },
  {
   "cell_type": "code",
   "execution_count": 8,
   "metadata": {
    "collapsed": true
   },
   "outputs": [],
   "source": [
    "def files_within(directory_path, pattern=\"*\"):\n",
    "    for dirpath, dirnames, filenames in os.walk(directory_path):\n",
    "        for file_name in fnmatch.filter(filenames, pattern):\n",
    "            yield os.path.join(dirpath, file_name)"
   ]
  },
  {
   "cell_type": "code",
   "execution_count": 9,
   "metadata": {
    "collapsed": true
   },
   "outputs": [],
   "source": [
    "def LoadImages(path,ImgsType):\n",
    "    imgs = []\n",
    "    files = list(files_within(path,\"*.jpg\"))\n",
    "    for file in files:\n",
    "        #print(file)\n",
    "        if ImgsType not in file: \n",
    "            continue\n",
    "        img = Image.open(file)\n",
    "        #img = img.resize((1024, 1024))\n",
    "        img = np.array(img)\n",
    "        print(file,\" \",img.shape)\n",
    "        imgs.append(img)\n",
    "    #imgs = np.array(imgs)\n",
    "    print(len(imgs))\n",
    "    return imgs"
   ]
  },
  {
   "cell_type": "markdown",
   "metadata": {},
   "source": [
    "# Create Data Set"
   ]
  },
  {
   "cell_type": "markdown",
   "metadata": {},
   "source": [
    "### Selected Features are:\n",
    "* All Ranges Mean Value\n",
    "* All Range Var\n",
    "* All Ranges Skew\n",
    "* All Ranges kurtosis\n",
    "* Red Ranges Mean Value\n",
    "* Red Range Var\n",
    "* Red Ranges Skew\n",
    "* Red Ranges kurtosis\n",
    "* Green Ranges Mean Value\n",
    "* Green Range Var\n",
    "* Green Ranges Skew\n",
    "* Green Ranges kurtosis\n",
    "* Blue Ranges Mean Value\n",
    "* Blue Range var\n",
    "* Blue Ranges Skew\n",
    "* Blue Ranges kurtosis\n",
    "* Gray Ranges Mean Value\n",
    "* Gray Range var\n",
    "* Gray Ranges Skew\n",
    "* Gray Ranges kurtosis\n",
    "-------------------\n",
    "* Black Ratio\n",
    "* White Ratio\n",
    "* Origional Entropy\n",
    "* Contrast Effect (4)\n",
    "* Dissimilarity Effect (4)\n",
    "* Homogeneity (4)\n",
    "* Energy (4)\n",
    "* Correlation (4)\n",
    "* Entropy (4)"
   ]
  },
  {
   "cell_type": "code",
   "execution_count": 10,
   "metadata": {
    "collapsed": true
   },
   "outputs": [],
   "source": [
    "columns = [\"Amean\",\"Avar\",\"ASkew\", \"AKurt\",\n",
    "           \"Rmean\",\"Rvar\",\"RSkew\", \"RKurt\",\n",
    "           \"Gmean\",\"Gvar\",\"GSkew\", \"GKurt\",\n",
    "           \"Bmean\",\"Bvar\",\"BSkew\", \"BKurt\",\n",
    "           \"Graymean\",\"Grayvar\",\"GraySkew\", \"GrayKurt\",\n",
    "           \"BlackRatio\",\"WhiteRatio\",\n",
    "           \"Entropy\",\n",
    "           \"Contrast0\",\"Contrast45\",\"Contrast90\",\"Contrast135\",\n",
    "           \"Dissimilarity0\",\"Dissimilarity45\",\"Dissimilarity20\",\"Dissimilarity2PI/2\",\n",
    "           \"Homogeneity0\",\"Homogeneity45\",\"Homogeneity90\",\"Homogeneity135\",\n",
    "           \"Energy0\",\"Energy45\",\"Energy20\",\"Energy135\",\n",
    "           \"Correlation0\",\"Correlation45\",\"Correlation90\",\"Correlation135\",\n",
    "           \"Entropy0\",\"Entropy45\",\"Entropy90\",\"Entropy135\"\n",
    "          ]"
   ]
  },
  {
   "cell_type": "code",
   "execution_count": 11,
   "metadata": {
    "collapsed": true
   },
   "outputs": [],
   "source": [
    "def allWork(path,ImgsType, removeblack = True):\n",
    "    imgs = LoadImages(path,ImgsType)\n",
    "    data = []\n",
    "    for i in range(0,len(imgs)):\n",
    "        Astats = getStats(imgs[i],removeblack)\n",
    "        Rstats = getStats(imgs[i][:,:,0],removeblack)\n",
    "        Gstats = getStats(imgs[i][:,:,1],removeblack)\n",
    "        Bstats = getStats(imgs[i][:,:,2],removeblack)\n",
    "        Gray = color.rgb2gray(imgs[i])*255 #* 255 # * 255 due to scale issues (0-1) -> (0->255)\n",
    "        Graystats = getStats(Gray,removeblack)\n",
    "        \n",
    "        #black and white ratios and entropy\n",
    "        [b,w] = getBlackandWhiteCount(toBitMap(Gray))\n",
    "        origionalentropy = skimage.measure.shannon_entropy(Gray)\n",
    "        \n",
    "        #texture features\n",
    "        coMatrix = GetCoMatrix(Gray)\n",
    "        contrast = GetTextureFeature(coMatrix,'contrast')\n",
    "        dissimilarity = GetTextureFeature(coMatrix,'dissimilarity')\n",
    "        homogeneity = GetTextureFeature(coMatrix,'homogeneity')\n",
    "        energy = GetTextureFeature(coMatrix,'energy')\n",
    "        correlation = GetTextureFeature(coMatrix,'correlation')\n",
    "        entropy = GetEntropy(coMatrix)\n",
    "    \n",
    "        data.append([ Astats[0],Astats[1],Astats[2],Astats[3],  \n",
    "                     Rstats[0],Rstats[1],Rstats[2],Rstats[3], \n",
    "                     Gstats[0],Gstats[1],Gstats[2],Gstats[3], \n",
    "                     Bstats[0],Bstats[1],Bstats[2],Bstats[3],\n",
    "                     Graystats[0],Graystats[1],Graystats[2],Graystats[3],\n",
    "                     b, w,\n",
    "                     origionalentropy,\n",
    "                     contrast[0][0], contrast[0][1], contrast[0][2],contrast[0][3],\n",
    "                     dissimilarity[0][0],dissimilarity[0][1],dissimilarity[0][2],dissimilarity[0][3],\n",
    "                     homogeneity[0][0],homogeneity[0][1],homogeneity[0][2],homogeneity[0][3],\n",
    "                     energy[0][0],energy[0][1],energy[0][2],energy[0][3],\n",
    "                     correlation[0][0],correlation[0][1],correlation[0][2],correlation[0][3],\n",
    "                     entropy[0][0],entropy[0][1],entropy[0][2],entropy[0][3]\n",
    "                    ])\n",
    "\n",
    "    numpyarray = np.array(data)\n",
    "    df = pd.DataFrame(numpyarray, columns = columns)\n",
    "    return df"
   ]
  },
  {
   "cell_type": "code",
   "execution_count": 12,
   "metadata": {},
   "outputs": [
    {
     "name": "stdout",
     "output_type": "stream",
     "text": [
      ".\\No BG\\100-GOPR1306-frame700.jpg   (733, 1352, 3)\n",
      ".\\No BG\\20_GOPR1027-frame150.jpg   (733, 1352, 3)\n",
      ".\\No BG\\40-GOPR0978-frame0.jpg   (733, 1352, 3)\n",
      ".\\No BG\\60-GOPR1180-frame840.jpg   (733, 1352, 3)\n",
      ".\\No BG\\80-GOPR1225-frame700.jpg   (733, 1352, 3)\n",
      ".\\No BG\\Clean_GOPR0943.JPG   (995, 1368, 3)\n",
      "6\n"
     ]
    },
    {
     "name": "stderr",
     "output_type": "stream",
     "text": [
      "C:\\Users\\eng_w\\Anaconda3\\lib\\site-packages\\skimage\\feature\\texture.py:109: FutureWarning: Conversion of the second argument of issubdtype from `float` to `np.floating` is deprecated. In future, it will be treated as `np.float64 == np.dtype(float).type`.\n",
      "  if np.issubdtype(image.dtype, np.float):\n"
     ]
    }
   ],
   "source": [
    "path = \".\"\n",
    "types = \"No BG\"\n",
    "removeblack = False\n",
    "df = allWork(path,types,removeblack)\n",
    "df['Class'] = ['80-100 %','0-20 %','20-40 %','40-60 %','60-80 %','Clean']"
   ]
  },
  {
   "cell_type": "code",
   "execution_count": 13,
   "metadata": {},
   "outputs": [
    {
     "data": {
      "text/html": [
       "<div>\n",
       "<style>\n",
       "    .dataframe thead tr:only-child th {\n",
       "        text-align: right;\n",
       "    }\n",
       "\n",
       "    .dataframe thead th {\n",
       "        text-align: left;\n",
       "    }\n",
       "\n",
       "    .dataframe tbody tr th {\n",
       "        vertical-align: top;\n",
       "    }\n",
       "</style>\n",
       "<table border=\"1\" class=\"dataframe\">\n",
       "  <thead>\n",
       "    <tr style=\"text-align: right;\">\n",
       "      <th></th>\n",
       "      <th>Amean</th>\n",
       "      <th>Avar</th>\n",
       "      <th>ASkew</th>\n",
       "      <th>AKurt</th>\n",
       "      <th>Rmean</th>\n",
       "      <th>Rvar</th>\n",
       "      <th>RSkew</th>\n",
       "      <th>RKurt</th>\n",
       "      <th>Gmean</th>\n",
       "      <th>Gvar</th>\n",
       "      <th>...</th>\n",
       "      <th>Energy135</th>\n",
       "      <th>Correlation0</th>\n",
       "      <th>Correlation45</th>\n",
       "      <th>Correlation90</th>\n",
       "      <th>Correlation135</th>\n",
       "      <th>Entropy0</th>\n",
       "      <th>Entropy45</th>\n",
       "      <th>Entropy90</th>\n",
       "      <th>Entropy135</th>\n",
       "      <th>Class</th>\n",
       "    </tr>\n",
       "  </thead>\n",
       "  <tbody>\n",
       "    <tr>\n",
       "      <th>0</th>\n",
       "      <td>96.312695</td>\n",
       "      <td>4321.206291</td>\n",
       "      <td>-0.524715</td>\n",
       "      <td>-1.303325</td>\n",
       "      <td>99.008617</td>\n",
       "      <td>4657.859048</td>\n",
       "      <td>-0.533703</td>\n",
       "      <td>-1.413014</td>\n",
       "      <td>95.708824</td>\n",
       "      <td>4304.097520</td>\n",
       "      <td>...</td>\n",
       "      <td>0.267179</td>\n",
       "      <td>0.978597</td>\n",
       "      <td>0.962570</td>\n",
       "      <td>0.976156</td>\n",
       "      <td>0.964770</td>\n",
       "      <td>9.326280</td>\n",
       "      <td>9.551958</td>\n",
       "      <td>9.401087</td>\n",
       "      <td>9.535499</td>\n",
       "      <td>80-100 %</td>\n",
       "    </tr>\n",
       "    <tr>\n",
       "      <th>1</th>\n",
       "      <td>74.184168</td>\n",
       "      <td>3901.586475</td>\n",
       "      <td>0.602104</td>\n",
       "      <td>-0.070672</td>\n",
       "      <td>69.664411</td>\n",
       "      <td>3830.476668</td>\n",
       "      <td>0.798558</td>\n",
       "      <td>0.168317</td>\n",
       "      <td>71.255210</td>\n",
       "      <td>3774.364323</td>\n",
       "      <td>...</td>\n",
       "      <td>0.279202</td>\n",
       "      <td>0.958682</td>\n",
       "      <td>0.895113</td>\n",
       "      <td>0.930258</td>\n",
       "      <td>0.901453</td>\n",
       "      <td>9.759935</td>\n",
       "      <td>10.215565</td>\n",
       "      <td>9.841503</td>\n",
       "      <td>10.190715</td>\n",
       "      <td>0-20 %</td>\n",
       "    </tr>\n",
       "    <tr>\n",
       "      <th>2</th>\n",
       "      <td>64.530801</td>\n",
       "      <td>3955.310665</td>\n",
       "      <td>0.707938</td>\n",
       "      <td>-0.215533</td>\n",
       "      <td>62.146934</td>\n",
       "      <td>3939.187172</td>\n",
       "      <td>0.819901</td>\n",
       "      <td>-0.090614</td>\n",
       "      <td>63.067005</td>\n",
       "      <td>3899.226012</td>\n",
       "      <td>...</td>\n",
       "      <td>0.360748</td>\n",
       "      <td>0.948615</td>\n",
       "      <td>0.897487</td>\n",
       "      <td>0.934894</td>\n",
       "      <td>0.900305</td>\n",
       "      <td>9.435021</td>\n",
       "      <td>9.766103</td>\n",
       "      <td>9.512679</td>\n",
       "      <td>9.758853</td>\n",
       "      <td>20-40 %</td>\n",
       "    </tr>\n",
       "    <tr>\n",
       "      <th>3</th>\n",
       "      <td>83.710363</td>\n",
       "      <td>4187.112150</td>\n",
       "      <td>0.019733</td>\n",
       "      <td>-1.218548</td>\n",
       "      <td>83.648385</td>\n",
       "      <td>4423.649424</td>\n",
       "      <td>0.084965</td>\n",
       "      <td>-1.289224</td>\n",
       "      <td>81.888749</td>\n",
       "      <td>4131.528726</td>\n",
       "      <td>...</td>\n",
       "      <td>0.273817</td>\n",
       "      <td>0.960334</td>\n",
       "      <td>0.930389</td>\n",
       "      <td>0.955933</td>\n",
       "      <td>0.931612</td>\n",
       "      <td>10.422224</td>\n",
       "      <td>10.723867</td>\n",
       "      <td>10.468105</td>\n",
       "      <td>10.717977</td>\n",
       "      <td>40-60 %</td>\n",
       "    </tr>\n",
       "    <tr>\n",
       "      <th>4</th>\n",
       "      <td>100.670398</td>\n",
       "      <td>3654.913091</td>\n",
       "      <td>-0.599230</td>\n",
       "      <td>-0.959015</td>\n",
       "      <td>101.037593</td>\n",
       "      <td>3879.646515</td>\n",
       "      <td>-0.537662</td>\n",
       "      <td>-1.114812</td>\n",
       "      <td>99.056432</td>\n",
       "      <td>3624.293607</td>\n",
       "      <td>...</td>\n",
       "      <td>0.192790</td>\n",
       "      <td>0.961008</td>\n",
       "      <td>0.928059</td>\n",
       "      <td>0.949483</td>\n",
       "      <td>0.927735</td>\n",
       "      <td>10.820810</td>\n",
       "      <td>11.118904</td>\n",
       "      <td>10.922601</td>\n",
       "      <td>11.117277</td>\n",
       "      <td>60-80 %</td>\n",
       "    </tr>\n",
       "    <tr>\n",
       "      <th>5</th>\n",
       "      <td>32.212409</td>\n",
       "      <td>2310.528376</td>\n",
       "      <td>1.526814</td>\n",
       "      <td>2.188046</td>\n",
       "      <td>22.769876</td>\n",
       "      <td>1341.953671</td>\n",
       "      <td>2.339998</td>\n",
       "      <td>7.265098</td>\n",
       "      <td>30.701513</td>\n",
       "      <td>1971.145844</td>\n",
       "      <td>...</td>\n",
       "      <td>0.614328</td>\n",
       "      <td>0.960363</td>\n",
       "      <td>0.825780</td>\n",
       "      <td>0.861031</td>\n",
       "      <td>0.833033</td>\n",
       "      <td>5.310230</td>\n",
       "      <td>5.481365</td>\n",
       "      <td>5.290292</td>\n",
       "      <td>5.475499</td>\n",
       "      <td>Clean</td>\n",
       "    </tr>\n",
       "  </tbody>\n",
       "</table>\n",
       "<p>6 rows × 48 columns</p>\n",
       "</div>"
      ],
      "text/plain": [
       "        Amean         Avar     ASkew     AKurt       Rmean         Rvar  \\\n",
       "0   96.312695  4321.206291 -0.524715 -1.303325   99.008617  4657.859048   \n",
       "1   74.184168  3901.586475  0.602104 -0.070672   69.664411  3830.476668   \n",
       "2   64.530801  3955.310665  0.707938 -0.215533   62.146934  3939.187172   \n",
       "3   83.710363  4187.112150  0.019733 -1.218548   83.648385  4423.649424   \n",
       "4  100.670398  3654.913091 -0.599230 -0.959015  101.037593  3879.646515   \n",
       "5   32.212409  2310.528376  1.526814  2.188046   22.769876  1341.953671   \n",
       "\n",
       "      RSkew     RKurt      Gmean         Gvar    ...     Energy135  \\\n",
       "0 -0.533703 -1.413014  95.708824  4304.097520    ...      0.267179   \n",
       "1  0.798558  0.168317  71.255210  3774.364323    ...      0.279202   \n",
       "2  0.819901 -0.090614  63.067005  3899.226012    ...      0.360748   \n",
       "3  0.084965 -1.289224  81.888749  4131.528726    ...      0.273817   \n",
       "4 -0.537662 -1.114812  99.056432  3624.293607    ...      0.192790   \n",
       "5  2.339998  7.265098  30.701513  1971.145844    ...      0.614328   \n",
       "\n",
       "   Correlation0  Correlation45  Correlation90  Correlation135   Entropy0  \\\n",
       "0      0.978597       0.962570       0.976156        0.964770   9.326280   \n",
       "1      0.958682       0.895113       0.930258        0.901453   9.759935   \n",
       "2      0.948615       0.897487       0.934894        0.900305   9.435021   \n",
       "3      0.960334       0.930389       0.955933        0.931612  10.422224   \n",
       "4      0.961008       0.928059       0.949483        0.927735  10.820810   \n",
       "5      0.960363       0.825780       0.861031        0.833033   5.310230   \n",
       "\n",
       "   Entropy45  Entropy90  Entropy135     Class  \n",
       "0   9.551958   9.401087    9.535499  80-100 %  \n",
       "1  10.215565   9.841503   10.190715    0-20 %  \n",
       "2   9.766103   9.512679    9.758853   20-40 %  \n",
       "3  10.723867  10.468105   10.717977   40-60 %  \n",
       "4  11.118904  10.922601   11.117277   60-80 %  \n",
       "5   5.481365   5.290292    5.475499     Clean  \n",
       "\n",
       "[6 rows x 48 columns]"
      ]
     },
     "execution_count": 13,
     "metadata": {},
     "output_type": "execute_result"
    }
   ],
   "source": [
    "df.head(6)"
   ]
  },
  {
   "cell_type": "code",
   "execution_count": 17,
   "metadata": {
    "collapsed": true
   },
   "outputs": [],
   "source": [
    "df.to_csv(\"Yap.csv\",index=False)"
   ]
  },
  {
   "cell_type": "code",
   "execution_count": 78,
   "metadata": {
    "collapsed": true
   },
   "outputs": [],
   "source": [
    "neededColumns = ['AKurt','Rmean','RKurt','GKurt','BKurt','Graymean','GrayKurt','Contrast45','Contrast90','Contrast135']\n"
   ]
  },
  {
   "cell_type": "code",
   "execution_count": 82,
   "metadata": {},
   "outputs": [
    {
     "data": {
      "text/html": [
       "<div>\n",
       "<style>\n",
       "    .dataframe thead tr:only-child th {\n",
       "        text-align: right;\n",
       "    }\n",
       "\n",
       "    .dataframe thead th {\n",
       "        text-align: left;\n",
       "    }\n",
       "\n",
       "    .dataframe tbody tr th {\n",
       "        vertical-align: top;\n",
       "    }\n",
       "</style>\n",
       "<table border=\"1\" class=\"dataframe\">\n",
       "  <thead>\n",
       "    <tr style=\"text-align: right;\">\n",
       "      <th></th>\n",
       "      <th>0</th>\n",
       "      <th>1</th>\n",
       "      <th>2</th>\n",
       "      <th>3</th>\n",
       "      <th>4</th>\n",
       "      <th>5</th>\n",
       "    </tr>\n",
       "  </thead>\n",
       "  <tbody>\n",
       "    <tr>\n",
       "      <th>AKurt</th>\n",
       "      <td>-0.941632</td>\n",
       "      <td>-0.733398</td>\n",
       "      <td>-0.832182</td>\n",
       "      <td>-0.443304</td>\n",
       "      <td>0.452397</td>\n",
       "      <td>2.90083</td>\n",
       "    </tr>\n",
       "    <tr>\n",
       "      <th>Rmean</th>\n",
       "      <td>119.532</td>\n",
       "      <td>118.762</td>\n",
       "      <td>120.782</td>\n",
       "      <td>128.866</td>\n",
       "      <td>130.47</td>\n",
       "      <td>136.351</td>\n",
       "    </tr>\n",
       "    <tr>\n",
       "      <th>RKurt</th>\n",
       "      <td>-1.48459</td>\n",
       "      <td>-1.07736</td>\n",
       "      <td>-1.0599</td>\n",
       "      <td>-0.639085</td>\n",
       "      <td>0.143892</td>\n",
       "      <td>2.77103</td>\n",
       "    </tr>\n",
       "    <tr>\n",
       "      <th>GKurt</th>\n",
       "      <td>-1.31612</td>\n",
       "      <td>-0.921634</td>\n",
       "      <td>-0.974355</td>\n",
       "      <td>-0.558741</td>\n",
       "      <td>0.312817</td>\n",
       "      <td>2.91245</td>\n",
       "    </tr>\n",
       "    <tr>\n",
       "      <th>BKurt</th>\n",
       "      <td>-0.349288</td>\n",
       "      <td>0.0104901</td>\n",
       "      <td>-0.379692</td>\n",
       "      <td>-0.161442</td>\n",
       "      <td>0.854348</td>\n",
       "      <td>3.08076</td>\n",
       "    </tr>\n",
       "    <tr>\n",
       "      <th>Graymean</th>\n",
       "      <td>126.782</td>\n",
       "      <td>119.633</td>\n",
       "      <td>121.496</td>\n",
       "      <td>127.454</td>\n",
       "      <td>129.203</td>\n",
       "      <td>133.906</td>\n",
       "    </tr>\n",
       "    <tr>\n",
       "      <th>GrayKurt</th>\n",
       "      <td>-1.34612</td>\n",
       "      <td>-0.918305</td>\n",
       "      <td>-0.967474</td>\n",
       "      <td>-0.558797</td>\n",
       "      <td>0.30174</td>\n",
       "      <td>2.89744</td>\n",
       "    </tr>\n",
       "    <tr>\n",
       "      <th>Contrast45</th>\n",
       "      <td>369.768</td>\n",
       "      <td>738.964</td>\n",
       "      <td>732.713</td>\n",
       "      <td>566.991</td>\n",
       "      <td>506.891</td>\n",
       "      <td>313.681</td>\n",
       "    </tr>\n",
       "    <tr>\n",
       "      <th>Contrast90</th>\n",
       "      <td>255.943</td>\n",
       "      <td>501.416</td>\n",
       "      <td>470.651</td>\n",
       "      <td>364.084</td>\n",
       "      <td>353.414</td>\n",
       "      <td>208.009</td>\n",
       "    </tr>\n",
       "    <tr>\n",
       "      <th>Contrast135</th>\n",
       "      <td>348.264</td>\n",
       "      <td>693.698</td>\n",
       "      <td>723.243</td>\n",
       "      <td>558.409</td>\n",
       "      <td>511.557</td>\n",
       "      <td>286.073</td>\n",
       "    </tr>\n",
       "    <tr>\n",
       "      <th>Class</th>\n",
       "      <td>Clean</td>\n",
       "      <td>0-20 %</td>\n",
       "      <td>20-40 %</td>\n",
       "      <td>40-60 %</td>\n",
       "      <td>60-80 %</td>\n",
       "      <td>80-100 %</td>\n",
       "    </tr>\n",
       "  </tbody>\n",
       "</table>\n",
       "</div>"
      ],
      "text/plain": [
       "                    0          1         2         3         4         5\n",
       "AKurt       -0.941632  -0.733398 -0.832182 -0.443304  0.452397   2.90083\n",
       "Rmean         119.532    118.762   120.782   128.866    130.47   136.351\n",
       "RKurt        -1.48459   -1.07736   -1.0599 -0.639085  0.143892   2.77103\n",
       "GKurt        -1.31612  -0.921634 -0.974355 -0.558741  0.312817   2.91245\n",
       "BKurt       -0.349288  0.0104901 -0.379692 -0.161442  0.854348   3.08076\n",
       "Graymean      126.782    119.633   121.496   127.454   129.203   133.906\n",
       "GrayKurt     -1.34612  -0.918305 -0.967474 -0.558797   0.30174   2.89744\n",
       "Contrast45    369.768    738.964   732.713   566.991   506.891   313.681\n",
       "Contrast90    255.943    501.416   470.651   364.084   353.414   208.009\n",
       "Contrast135   348.264    693.698   723.243   558.409   511.557   286.073\n",
       "Class           Clean     0-20 %   20-40 %   40-60 %   60-80 %  80-100 %"
      ]
     },
     "execution_count": 82,
     "metadata": {},
     "output_type": "execute_result"
    }
   ],
   "source": [
    "from sklearn.preprocessing import MinMaxScaler\n",
    "df1 = df[neededColumns]\n",
    "y = df['Class']\n",
    "#scaler = MinMaxScaler()\n",
    "#df1 = scaler.fit_transform(df1)\n",
    "dfinal = pd.DataFrame(df1, columns = neededColumns)\n",
    "dfinal['Class'] = y\n",
    "b, c = dfinal.iloc[0], dfinal.iloc[5]\n",
    "temp = dfinal.iloc[0].copy()\n",
    "dfinal.iloc[0] = c\n",
    "dfinal.iloc[5] = temp\n",
    "dfinal.T.head(100)"
   ]
  },
  {
   "cell_type": "code",
   "execution_count": 80,
   "metadata": {},
   "outputs": [
    {
     "data": {
      "text/plain": [
       "<matplotlib.axes._subplots.AxesSubplot at 0x231183c2748>"
      ]
     },
     "execution_count": 80,
     "metadata": {},
     "output_type": "execute_result"
    },
    {
     "data": {
      "image/png": "[encoded data removed]",
      "text/plain": [
       "<Figure size 432x288 with 1 Axes>"
      ]
     },
     "metadata": {},
     "output_type": "display_data"
    }
   ],
   "source": [
    "dfinal.plot(x= 'Class')"
   ]
  },
  {
   "cell_type": "code",
   "execution_count": null,
   "metadata": {
    "collapsed": true
   },
   "outputs": [],
   "source": []
  }
 ],
 "metadata": {
  "kernelspec": {
   "display_name": "Python 3",
   "language": "python",
   "name": "python3"
  },
  "language_info": {
   "codemirror_mode": {
    "name": "ipython",
    "version": 3
   },
   "file_extension": ".py",
   "mimetype": "text/x-python",
   "name": "python",
   "nbconvert_exporter": "python",
   "pygments_lexer": "ipython3",
   "version": "3.6.8"
  }
 },
 "nbformat": 4,
 "nbformat_minor": 2
}
